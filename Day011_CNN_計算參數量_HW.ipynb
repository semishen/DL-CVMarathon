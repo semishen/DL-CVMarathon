{
  "nbformat": 4,
  "nbformat_minor": 0,
  "metadata": {
    "colab": {
      "name": "Day011_CNN-計算參數量_HW.ipynb",
      "provenance": [],
      "collapsed_sections": [],
      "include_colab_link": true
    },
    "kernelspec": {
      "display_name": "Python 3",
      "language": "python",
      "name": "python3"
    },
    "language_info": {
      "codemirror_mode": {
        "name": "ipython",
        "version": 3
      },
      "file_extension": ".py",
      "mimetype": "text/x-python",
      "name": "python",
      "nbconvert_exporter": "python",
      "pygments_lexer": "ipython3",
      "version": "3.6.7"
    }
  },
  "cells": [
    {
      "cell_type": "markdown",
      "metadata": {
        "id": "view-in-github",
        "colab_type": "text"
      },
      "source": [
        "<a href=\"https://colab.research.google.com/github/semishen/DL-CVMarathon/blob/master/Day011_CNN_%E8%A8%88%E7%AE%97%E5%8F%83%E6%95%B8%E9%87%8F_HW.ipynb\" target=\"_parent\"><img src=\"https://colab.research.google.com/assets/colab-badge.svg\" alt=\"Open In Colab\"/></a>"
      ]
    },
    {
      "cell_type": "markdown",
      "metadata": {
        "colab_type": "text",
        "id": "f6jN0Y8x4gNA"
      },
      "source": [
        "## 『本次練習內容』\n",
        "#### 運用Keras搭建簡單的Dense Layer與 Convolution2D Layer，使用相同Neurons數量，計算總參數量相差多少。\n"
      ]
    },
    {
      "cell_type": "markdown",
      "metadata": {
        "id": "pVbwm2jSHSwy",
        "colab_type": "text"
      },
      "source": [
        "## 『本次練習目的』\n",
        "  #### 本次練習主要是要讓各位同學們了解CNN與FC層的參數使用量差異\n",
        "  #### Convolution2D有許多參數可以設置，之後章節會細談\n",
        "  #### 不熟Keras的學員們也可以藉此了解NN層的不同搭法"
      ]
    },
    {
      "cell_type": "code",
      "metadata": {
        "colab_type": "code",
        "id": "SAFr7hM24gNB",
        "colab": {
          "base_uri": "https://localhost:8080/",
          "height": 35
        },
        "outputId": "057ccaca-dc9d-4885-c142-2f78c201d873"
      },
      "source": [
        "from keras.models import Sequential\n",
        "from keras.layers import Convolution2D\n",
        "from keras.layers import Input, Dense\n",
        "from keras.models import Model"
      ],
      "execution_count": 1,
      "outputs": [
        {
          "output_type": "stream",
          "text": [
            "Using TensorFlow backend.\n"
          ],
          "name": "stderr"
        }
      ]
    },
    {
      "cell_type": "code",
      "metadata": {
        "id": "icehtRZoHSw3",
        "colab_type": "code",
        "colab": {
          "base_uri": "https://localhost:8080/",
          "height": 449
        },
        "outputId": "559ce283-5a56-4aec-8b69-c3e32129f9d9"
      },
      "source": [
        "#輸入照片尺寸==28*28*1\n",
        "#都用一層，288個神經元\n",
        "\n",
        "#建造一個一層的CNN層\n",
        "classifier=Sequential()\n",
        "\n",
        "#Kernel size 3*3，用32張，輸入大小28*28*1\n",
        "classifier.add(Convolution2D(kernel_size=(3,3),filters=32,input_shape=(28,28,1)))\n",
        "#看看model結構\n",
        "print(classifier.summary())\n",
        "# 理解輸出Total params為何==320\n",
        "# weight = 3*3*1*32, bias = 32, total = 320\n",
        "\n",
        "#建造一個一層的FC層\n",
        "classifier=Sequential()\n",
        "\n",
        "#輸入為28*28*1攤平==784\n",
        "inputs = Input(shape=(784,))\n",
        "\n",
        "#CNN中用了(3*3*1)*32個神經元，我們這邊也用相同神經元數量\n",
        "x=Dense(units = 288)(inputs)\n",
        "model = Model(inputs=inputs, outputs=x)\n",
        "\n",
        "#看看model結構\n",
        "print(model.summary())\n",
        "# 理解輸出Total params為何==226080\n",
        "# weight = 784*288, bias = 288, total = 226080\n",
        "\n",
        "#大家可以自己變換設定看看參數變化"
      ],
      "execution_count": 5,
      "outputs": [
        {
          "output_type": "stream",
          "text": [
            "Model: \"sequential_4\"\n",
            "_________________________________________________________________\n",
            "Layer (type)                 Output Shape              Param #   \n",
            "=================================================================\n",
            "conv2d_3 (Conv2D)            (None, 26, 26, 32)        320       \n",
            "=================================================================\n",
            "Total params: 320\n",
            "Trainable params: 320\n",
            "Non-trainable params: 0\n",
            "_________________________________________________________________\n",
            "None\n",
            "Model: \"model_1\"\n",
            "_________________________________________________________________\n",
            "Layer (type)                 Output Shape              Param #   \n",
            "=================================================================\n",
            "input_1 (InputLayer)         (None, 784)               0         \n",
            "_________________________________________________________________\n",
            "dense_1 (Dense)              (None, 288)               226080    \n",
            "=================================================================\n",
            "Total params: 226,080\n",
            "Trainable params: 226,080\n",
            "Non-trainable params: 0\n",
            "_________________________________________________________________\n",
            "None\n"
          ],
          "name": "stdout"
        }
      ]
    },
    {
      "cell_type": "code",
      "metadata": {
        "id": "c2J6V8ZTHSw6",
        "colab_type": "code",
        "colab": {}
      },
      "source": [
        ""
      ],
      "execution_count": 0,
      "outputs": []
    }
  ]
}