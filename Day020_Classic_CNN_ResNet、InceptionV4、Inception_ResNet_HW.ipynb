{
  "nbformat": 4,
  "nbformat_minor": 0,
  "metadata": {
    "colab": {
      "name": "Day020_Classic CNN-ResNet、InceptionV4、Inception-ResNet_HW.ipynb",
      "provenance": [],
      "collapsed_sections": [],
      "include_colab_link": true
    },
    "kernelspec": {
      "display_name": "Python 3",
      "language": "python",
      "name": "python3"
    },
    "language_info": {
      "codemirror_mode": {
        "name": "ipython",
        "version": 3
      },
      "file_extension": ".py",
      "mimetype": "text/x-python",
      "name": "python",
      "nbconvert_exporter": "python",
      "pygments_lexer": "ipython3",
      "version": "3.6.7"
    }
  },
  "cells": [
    {
      "cell_type": "markdown",
      "metadata": {
        "id": "view-in-github",
        "colab_type": "text"
      },
      "source": [
        "<a href=\"https://colab.research.google.com/github/semishen/DL-CVMarathon/blob/master/Day020_Classic_CNN_ResNet%E3%80%81InceptionV4%E3%80%81Inception_ResNet_HW.ipynb\" target=\"_parent\"><img src=\"https://colab.research.google.com/assets/colab-badge.svg\" alt=\"Open In Colab\"/></a>"
      ]
    },
    {
      "cell_type": "markdown",
      "metadata": {
        "id": "svsItM3vo6ZS",
        "colab_type": "text"
      },
      "source": [
        "## 『本次練習內容』\n",
        "#### 學習如何搭建 Residual Block\n",
        "####  學習如何搭建Inception-ResNet中的 Inception Block"
      ]
    },
    {
      "cell_type": "markdown",
      "metadata": {
        "id": "GmSj2Ovlo6ZT",
        "colab_type": "text"
      },
      "source": [
        "## 『本次練習目的』\n",
        "  #### 了解 Residual Block原理\n",
        "  #### 了解如何結合Inception 與 Residual概念"
      ]
    },
    {
      "cell_type": "markdown",
      "metadata": {
        "id": "_OxQ3GDOo6ZU",
        "colab_type": "text"
      },
      "source": [
        "---"
      ]
    },
    {
      "cell_type": "markdown",
      "metadata": {
        "id": "5miWUn5mo6ZU",
        "colab_type": "text"
      },
      "source": [
        "## Part1"
      ]
    },
    {
      "cell_type": "code",
      "metadata": {
        "id": "h465S_E8o6ZV",
        "colab_type": "code",
        "colab": {
          "base_uri": "https://localhost:8080/",
          "height": 35
        },
        "outputId": "fa636a4f-8ad7-42b7-c4f1-70b4de544a23"
      },
      "source": [
        "import numpy as np\n",
        "from keras.models import Model\n",
        "from keras.layers import Flatten\n",
        "from keras.layers import Dense\n",
        "from keras.layers import Input\n",
        "from keras.layers import Conv2D\n",
        "from keras.layers import MaxPooling2D\n",
        "from keras.layers import GlobalMaxPooling2D\n",
        "from keras.layers import GlobalAveragePooling2D\n",
        "from keras import backend as K\n",
        "from keras import layers\n",
        "from keras.layers import BatchNormalization\n",
        "from keras.layers import Activation\n",
        "from keras.layers import Concatenate\n",
        "from keras.layers import Lambda"
      ],
      "execution_count": 1,
      "outputs": [
        {
          "output_type": "stream",
          "text": [
            "Using TensorFlow backend.\n"
          ],
          "name": "stderr"
        }
      ]
    },
    {
      "cell_type": "markdown",
      "metadata": {
        "id": "bQGuFkQ8o6ZY",
        "colab_type": "text"
      },
      "source": [
        "![Incpeiton](ResNet_Structure.png)"
      ]
    },
    {
      "cell_type": "markdown",
      "metadata": {
        "id": "JASLFgbFo6ZZ",
        "colab_type": "text"
      },
      "source": [
        "## ResNetV1"
      ]
    },
    {
      "cell_type": "code",
      "metadata": {
        "id": "xwZgvMmUo6ZZ",
        "colab_type": "code",
        "colab": {}
      },
      "source": [
        "def Residual_block(input_tensor, kernel_size, filters, stage, block):\n",
        "    filters1, filters2, filters3 = filters\n",
        "    conv_name_base = 'res' + str(stage) + block + '_branch'\n",
        "    bn_name_base = 'bn' + str(stage) + block + '_branch'\n",
        "\n",
        "    x = Conv2D(filters1, (1, 1), name=conv_name_base + '2a')(input_tensor)\n",
        "    x = BatchNormalization(axis=3, name=bn_name_base + '2a')(x)\n",
        "    x = Activation('relu')(x)\n",
        "\n",
        "    x = Conv2D(filters2, kernel_size,\n",
        "               padding='same', name=conv_name_base + '2b')(x)\n",
        "    x = BatchNormalization(axis=3, name=bn_name_base + '2b')(x)\n",
        "   \n",
        "\n",
        "    x = layers.add([x, input_tensor])\n",
        "    x = Activation('relu')(x)\n",
        "    return x"
      ],
      "execution_count": 2,
      "outputs": []
    },
    {
      "cell_type": "markdown",
      "metadata": {
        "id": "n32iaiZDo6Zb",
        "colab_type": "text"
      },
      "source": [
        "## 參考ResNetV1 搭建 ResNetV2版本的Residual Block"
      ]
    },
    {
      "cell_type": "code",
      "metadata": {
        "id": "hPuGT2L2o6Zc",
        "colab_type": "code",
        "colab": {}
      },
      "source": [
        "def Residual_block_v2(input_tensor, kernel_size, filters, stage, block):\n",
        "  filters1, filters2, filters3 = filters\n",
        "  conv_name_base = 'res' + str(stage) + block + '_branch'\n",
        "  bn_name_base = 'bn' + str(stage) + block + '_branch'\n",
        "\n",
        "  x = BatchNormalization(axis=3, name=bn_name_base + '2a')(input_tensor)\n",
        "  x = Activation('relu')(x)\n",
        "  x = Conv2D(filters1, (1, 1), name=conv_name_base + '2a')(x)\n",
        "  \n",
        "  x = BatchNormalization(axis=3, name=bn_name_base + '2b')(x)\n",
        "  x = Activation('relu')(x)\n",
        "  x = Conv2D(filters2, kernel_size,\n",
        "              padding='same', name=conv_name_base + '2b')(x)\n",
        "  \n",
        "  x = layers.add([x, input_tensor])\n",
        "  return x"
      ],
      "execution_count": null,
      "outputs": []
    },
    {
      "cell_type": "markdown",
      "metadata": {
        "id": "ep3bq4pAo6Ze",
        "colab_type": "text"
      },
      "source": [
        "## 試試看自己設計一個先壓縮再回放的V2 Block"
      ]
    },
    {
      "cell_type": "code",
      "metadata": {
        "id": "rAZDVuP7o6Ze",
        "colab_type": "code",
        "colab": {}
      },
      "source": [
        "def Residual_block_v2(input_tensor, kernel_size, stage, block,reduce=96,ouput_size=128):\n",
        "  filters1, filters2, filters3 = filters\n",
        "  conv_name_base = 'res' + str(stage) + block + '_branch'\n",
        "  bn_name_base = 'bn' + str(stage) + block + '_branch'\n",
        "\n",
        "  x = Conv2D(filters=reduce,kernel_size=1,\n",
        "              padding='same', name=conv_name_base + 'reduce')(input_tensor)\n",
        "  x = BatchNormalization(axis=3, name=bn_name_base + '2a')(x)\n",
        "  x = Activation('relu')(x)\n",
        "  x = Conv2D(filters1, (1, 1), name=conv_name_base + '2a')(x)\n",
        "  \n",
        "  x = BatchNormalization(axis=3, name=bn_name_base + '2b')(x)\n",
        "  x = Activation('relu')(x)\n",
        "  x = Conv2D(filters=ouput_size,kernel_size=1,\n",
        "              padding='same', name=conv_name_base + 'increase')(x)\n",
        "  x = layers.add([x, input_tensor])\n",
        "  \n",
        "  return x\n"
      ],
      "execution_count": 3,
      "outputs": []
    },
    {
      "cell_type": "markdown",
      "metadata": {
        "id": "23IGOXoLo6Zg",
        "colab_type": "text"
      },
      "source": [
        "---"
      ]
    },
    {
      "cell_type": "markdown",
      "metadata": {
        "id": "NkVN6jozo6Zh",
        "colab_type": "text"
      },
      "source": [
        "## Part2"
      ]
    },
    {
      "cell_type": "markdown",
      "metadata": {
        "colab_type": "text",
        "id": "tfa8Vx5iJbZU"
      },
      "source": [
        "## Incpetion Block-A"
      ]
    },
    {
      "cell_type": "markdown",
      "metadata": {
        "colab_type": "text",
        "id": "xbuyi79mJbZX"
      },
      "source": [
        "![Incpeiton](Inception-ResNet-A.png)"
      ]
    },
    {
      "cell_type": "markdown",
      "metadata": {
        "colab_type": "text",
        "id": "3GI24k24JbZa"
      },
      "source": [
        "## Incpetion Block-B"
      ]
    },
    {
      "cell_type": "markdown",
      "metadata": {
        "colab_type": "text",
        "id": "Ge28e58BJbZd"
      },
      "source": [
        "![Incpeiton](Inception-ResNet-B.png)"
      ]
    },
    {
      "cell_type": "markdown",
      "metadata": {
        "colab_type": "text",
        "id": "aMz1WNBsJbZg"
      },
      "source": [
        "## Incpetion Block-C"
      ]
    },
    {
      "cell_type": "markdown",
      "metadata": {
        "colab_type": "text",
        "id": "A4lY1HV6JbZj"
      },
      "source": [
        "![Incpeiton](Inception-ResNet-C.png)"
      ]
    },
    {
      "cell_type": "code",
      "metadata": {
        "colab_type": "code",
        "id": "t9IKAa_4JbZ1",
        "colab": {}
      },
      "source": [
        "def Conv2d_bn(x,filters,kernel_size,padding='same',strides=(1, 1),normalizer=True,activation='relu',name=None):\n",
        "  if name is not None:\n",
        "      conv_name = name + '_conv'\n",
        "      bn_name = name + '_bn'\n",
        "      act_name = name + '_act'\n",
        "  else:\n",
        "      conv_name = None\n",
        "      bn_name = None\n",
        "      act_name = None\n",
        "  if K.image_data_format() == 'channels_first':\n",
        "      bn_axis = 1\n",
        "  else:\n",
        "      bn_axis = 3\n",
        "  x = Conv2D(\n",
        "          filters, kernel_size,\n",
        "          strides=strides, padding=padding,\n",
        "          use_bias=False, name=conv_name)(x)\n",
        "  if normalizer:\n",
        "      x = BatchNormalization(axis=bn_axis, scale=False, name=bn_name)(x)\n",
        "  if activation:\n",
        "      x = Activation(activation, name=act_name)(x)\n",
        "  return x"
      ],
      "execution_count": 4,
      "outputs": []
    },
    {
      "cell_type": "code",
      "metadata": {
        "colab_type": "code",
        "id": "d7iVPJQkJbZ-",
        "colab": {}
      },
      "source": [
        "def Residual_block(input_tensor, kernel_size, filters, stage, block):\n",
        "  filters1, filters2, filters3 = filters\n",
        "  conv_name_base = 'res' + str(stage) + block + '_branch'\n",
        "  bn_name_base = 'bn' + str(stage) + block + '_branch'\n",
        "\n",
        "  x = Conv2D(filters1, (1, 1), name=conv_name_base + '2a')(input_tensor)\n",
        "  x = BatchNormalization(axis=3, name=bn_name_base + '2a')(x)\n",
        "  x = Activation('relu')(x)\n",
        "\n",
        "  x = Conv2D(filters2, kernel_size,\n",
        "              padding='same', name=conv_name_base + '2b')(x)\n",
        "  x = BatchNormalization(axis=3, name=bn_name_base + '2b')(x)\n",
        "  x = Activation('relu')(x)\n",
        "\n",
        "  x = Conv2D(filters3, (1, 1), name=conv_name_base + '2c')(x)\n",
        "  x = BatchNormalization(axis=3, name=bn_name_base + '2c')(x)\n",
        "\n",
        "  x = layers.add([x, input_tensor])\n",
        "  x = Activation('relu')(x)\n",
        "  return x"
      ],
      "execution_count": 5,
      "outputs": []
    },
    {
      "cell_type": "markdown",
      "metadata": {
        "colab_type": "text",
        "id": "M0BEkO7VJbaI"
      },
      "source": [
        "## 參考上方Residual_block搭建 Inception-ResNet中的Inception Block"
      ]
    },
    {
      "cell_type": "code",
      "metadata": {
        "colab_type": "code",
        "id": "XJjxq9lWJbaN",
        "colab": {}
      },
      "source": [
        "def inception_resnet_block(x, scale, block_type, activation='relu'):\n",
        "    '''scale: scaling factor to scale the residuals (i.e., the output of\n",
        "            passing `x` through an inception module) before adding them\n",
        "            to the shortcut branch. Let `r` be the output from the residual branch,\n",
        "            the output of this block will be `x + scale * r`.(簡單來說就是控制Residual branch的比例)'''\n",
        "    if block_type == 'Incpetion_Block-A':\n",
        "        branch_0 = Conv2D(filters=32, kernel_size=1, padding='same')(x)\n",
        "        branch_1 = Conv2D(filters=32, kernel_size=1, padding='same')(x)\n",
        "        branch_1 = Conv2D(filters=32, kernel_size=3, padding='same')(branch_1)\n",
        "        branch_2 = Conv2D(filters=32, kernel_size=1, padding='same')(x)\n",
        "        branch_2 = Conv2D(filters=48, kernel_size=3, padding='same')(branch_2)\n",
        "        branch_2 = Conv2D(filters=64, kernel_size=3, padding='same')(branch_2)\n",
        "        branches = [branch_0, branch_1, branch_2]\n",
        "    elif block_type == 'Incpetion_Block-B':\n",
        "        branch_0 = Conv2D(filters=192, kernel_size=1, padding='same')(x)\n",
        "        branch_1 = Conv2D(filters=128, kernel_size=1, padding='same')(x)\n",
        "        branch_1 = Conv2D(filters=160, kernel_size=(1,7), padding='same')(branch_1)\n",
        "        branch_1 = Conv2D(filters=192, kernel_size=(7,1), padding='same')(branch_1)\n",
        "        branches = [branch_0, branch_1]\n",
        "    elif block_type == 'Incpetion_Block-C':\n",
        "        branch_0 = Conv2D(filters=192, kernel_size=1, padding='same')(x)\n",
        "        branch_1 = Conv2D(filters=192, kernel_size=1, padding='same')(x)\n",
        "        branch_1 = Conv2D(filters=192, kernel_size=(1,3), padding='same')(branch_1)\n",
        "        branch_1 = Conv2D(filters=192, kernel_size=(3,1), padding='same')(branch_1)\n",
        "        branches = [branch_0, branch_1]\n",
        "    else:\n",
        "        raise ValueError('Unknown Inception-ResNet block type. '\n",
        "                         'Expects \"block35\", \"block17\" or \"block8\", '\n",
        "                         'but got: ' + str(block_type))\n",
        "    mixed = Concatenate(axis=3)(branches)\n",
        "    \n",
        "    '''確保輸入跟輸出深度相同'''\n",
        "    up = Conv2d_bn(mixed,K.int_shape(x)[3],1,activation=None)\n",
        "    \n",
        "    '''導入殘差結構，並給予權重'''\n",
        "    \n",
        "    x = Lambda(lambda inputs, scale: inputs[0]+ inputs[1] * scale, ##提示inputs[0]、inputs[1]\n",
        "               output_shape=K.int_shape(x)[1:],\n",
        "               arguments={'scale': scale},)([x,up])\n",
        "    \n",
        "    if activation is not None:\n",
        "        x = Activation(activation)(x)\n",
        "    return x\n"
      ],
      "execution_count": 15,
      "outputs": []
    },
    {
      "cell_type": "code",
      "metadata": {
        "colab_type": "code",
        "id": "wv-ni8GpJbaU",
        "colab": {
          "base_uri": "https://localhost:8080/",
          "height": 35
        },
        "outputId": "e220aab4-2bbe-409c-fb0f-0ddf39c30ae8"
      },
      "source": [
        "img_input = Input(shape=(224,224,32))\n",
        "x=inception_resnet_block(img_input, 0.1, 'Incpetion_Block-A', activation='relu')\n",
        "print(x)"
      ],
      "execution_count": 7,
      "outputs": [
        {
          "output_type": "stream",
          "text": [
            "Tensor(\"activation_1/Relu:0\", shape=(None, 224, 224, 32), dtype=float32)\n"
          ],
          "name": "stdout"
        }
      ]
    },
    {
      "cell_type": "markdown",
      "metadata": {
        "colab_type": "text",
        "id": "HOBuOAjOJbab"
      },
      "source": [
        "## 測試"
      ]
    },
    {
      "cell_type": "code",
      "metadata": {
        "colab_type": "code",
        "id": "T-igNjppJbad",
        "colab": {
          "base_uri": "https://localhost:8080/",
          "height": 35
        },
        "outputId": "1aadf3b1-61c0-48ae-e2bc-b90a771b164b"
      },
      "source": [
        "img_input = Input(shape=(224,224,32))\n",
        "x=inception_resnet_block(img_input, 0.1, 'Incpetion_Block-A', activation='relu')\n",
        "print(x)"
      ],
      "execution_count": 8,
      "outputs": [
        {
          "output_type": "stream",
          "text": [
            "Tensor(\"activation_2/Relu:0\", shape=(None, 224, 224, 32), dtype=float32)\n"
          ],
          "name": "stdout"
        }
      ]
    },
    {
      "cell_type": "code",
      "metadata": {
        "colab_type": "code",
        "id": "V7otKKZWJbah",
        "colab": {
          "base_uri": "https://localhost:8080/",
          "height": 35
        },
        "outputId": "e4f49f97-a2d6-4084-dfcf-1e3b3243b4a1"
      },
      "source": [
        "img_input = Input(shape=(224,224,32))\n",
        "x=inception_resnet_block(img_input, 0.1, 'Incpetion_Block-B', activation='relu')\n",
        "print(x)"
      ],
      "execution_count": 9,
      "outputs": [
        {
          "output_type": "stream",
          "text": [
            "Tensor(\"activation_3/Relu:0\", shape=(None, 224, 224, 32), dtype=float32)\n"
          ],
          "name": "stdout"
        }
      ]
    },
    {
      "cell_type": "code",
      "metadata": {
        "colab_type": "code",
        "id": "RjxCkTlHJbal",
        "colab": {
          "base_uri": "https://localhost:8080/",
          "height": 35
        },
        "outputId": "b2a6aa9e-9f89-488b-89bd-8d804fb90aa6"
      },
      "source": [
        "img_input = Input(shape=(224,224,32))\n",
        "x=inception_resnet_block(img_input, 0.1, 'Incpetion_Block-C', activation='relu')\n",
        "print(x)"
      ],
      "execution_count": 10,
      "outputs": [
        {
          "output_type": "stream",
          "text": [
            "Tensor(\"activation_4/Relu:0\", shape=(None, 224, 224, 32), dtype=float32)\n"
          ],
          "name": "stdout"
        }
      ]
    },
    {
      "cell_type": "markdown",
      "metadata": {
        "colab_type": "text",
        "id": "UYD4kS0BJbao"
      },
      "source": [
        "## 嘗試導入Inception ResNet Block到 Vgg_Inception中"
      ]
    },
    {
      "cell_type": "code",
      "metadata": {
        "colab_type": "code",
        "id": "FEe8WW2qJbap",
        "colab": {}
      },
      "source": [
        "def VGG16_ResNet_Inception(include_top=True,input_tensor=None, input_shape=(224,224,1),\n",
        "          pooling='max',classes=1000):\n",
        " \n",
        "    img_input = Input(shape=input_shape)\n",
        "    \n",
        "    x = Conv2d_bn(img_input,64, (3, 3), activation='relu', padding='same', name='block1_conv1')\n",
        "    x = Conv2d_bn(x,64, (3, 3), activation='relu', padding='same', name='block1_conv2')\n",
        "    x = MaxPooling2D((2, 2), strides=(2, 2), name='block1_pool')(x)\n",
        "\n",
        "    # Block 2\n",
        "    x = Conv2d_bn(x,128, (3, 3), activation='relu', padding='same', name='block2_conv1')\n",
        "    x = Conv2d_bn(x,128, (3, 3), activation='relu', padding='same', name='block2_conv2')\n",
        "    x = MaxPooling2D((2, 2), strides=(2, 2), name='block2_pool')(x)\n",
        "\n",
        "    # Block 3\n",
        "    x = inception_resnet_block(x, 0.1, 'Incpetion_Block-A', activation='relu')\n",
        "    x = inception_resnet_block(x, 0.1, 'Incpetion_Block-A', activation='relu')\n",
        "    x = inception_resnet_block(x, 0.1, 'Incpetion_Block-A', activation='relu')\n",
        "    x = MaxPooling2D((2, 2), strides=(2, 2), name='block3_pool')(x)\n",
        "\n",
        "    # Block 4\n",
        "    x = Conv2d_bn(x,512, (3, 3), activation='relu', padding='same', name='block4_conv1')\n",
        "    x = Conv2d_bn(x,512, (3, 3), activation='relu', padding='same', name='block4_conv2')\n",
        "    x = Conv2d_bn(x,512, (3, 3), activation='relu', padding='same', name='block4_conv3')\n",
        "    x = MaxPooling2D((2, 2), strides=(2, 2), name='block4_pool')(x)\n",
        "\n",
        "    # Block 5 \n",
        "    #為什麼要加InceptionV3_block 原因?\n",
        "    x = inception_resnet_block(x, 0.1, 'Incpetion_Block-B', activation='relu')\n",
        "    x = inception_resnet_block(x, 0.1, 'Incpetion_Block-B', activation='relu')\n",
        "    x = inception_resnet_block(x, 0.1, 'Incpetion_Block-B', activation='relu')\n",
        "    x = MaxPooling2D((2, 2), strides=(2, 2), name='block5_pool')(x)\n",
        "\n",
        "    if include_top:\n",
        "        # Classification block\n",
        "        x = Flatten(name='flatten')(x)\n",
        "        x = Dense(4096, activation='relu', name='fc1')(x)\n",
        "        x = Dense(4096, activation='relu', name='fc2')(x)\n",
        "        x = Dense(classes, activation='softmax', name='predictions')(x)\n",
        "    else:\n",
        "       #可以提醒學員為什麼要加avg或是max\n",
        "        if pooling == 'avg':\n",
        "            x = GlobalAveragePooling2D()(x)\n",
        "        elif pooling == 'max':\n",
        "            x = GlobalMaxPooling2D()(x)\n",
        "\n",
        "    inputs = img_input\n",
        "    # Create model.\n",
        "    model = Model(inputs, x, name='vgg16')\n",
        "\n",
        "   \n",
        "    return model\n",
        "\n"
      ],
      "execution_count": 16,
      "outputs": []
    },
    {
      "cell_type": "code",
      "metadata": {
        "colab_type": "code",
        "id": "mQufg4jFJbas",
        "colab": {}
      },
      "source": [
        "model = VGG16_ResNet_Inception(include_top=False)"
      ],
      "execution_count": 17,
      "outputs": []
    },
    {
      "cell_type": "code",
      "metadata": {
        "colab_type": "code",
        "id": "e3WfMLiYJbav",
        "colab": {
          "base_uri": "https://localhost:8080/",
          "height": 1000
        },
        "outputId": "a708969b-81ff-493b-9787-67815561164e"
      },
      "source": [
        "model.summary()"
      ],
      "execution_count": 18,
      "outputs": [
        {
          "output_type": "stream",
          "text": [
            "Model: \"vgg16\"\n",
            "__________________________________________________________________________________________________\n",
            "Layer (type)                    Output Shape         Param #     Connected to                     \n",
            "==================================================================================================\n",
            "input_7 (InputLayer)            (None, 224, 224, 1)  0                                            \n",
            "__________________________________________________________________________________________________\n",
            "block1_conv1_conv (Conv2D)      (None, 224, 224, 64) 576         input_7[0][0]                    \n",
            "__________________________________________________________________________________________________\n",
            "block1_conv1_bn (BatchNormaliza (None, 224, 224, 64) 192         block1_conv1_conv[0][0]          \n",
            "__________________________________________________________________________________________________\n",
            "block1_conv1_act (Activation)   (None, 224, 224, 64) 0           block1_conv1_bn[0][0]            \n",
            "__________________________________________________________________________________________________\n",
            "block1_conv2_conv (Conv2D)      (None, 224, 224, 64) 36864       block1_conv1_act[0][0]           \n",
            "__________________________________________________________________________________________________\n",
            "block1_conv2_bn (BatchNormaliza (None, 224, 224, 64) 192         block1_conv2_conv[0][0]          \n",
            "__________________________________________________________________________________________________\n",
            "block1_conv2_act (Activation)   (None, 224, 224, 64) 0           block1_conv2_bn[0][0]            \n",
            "__________________________________________________________________________________________________\n",
            "block1_pool (MaxPooling2D)      (None, 112, 112, 64) 0           block1_conv2_act[0][0]           \n",
            "__________________________________________________________________________________________________\n",
            "block2_conv1_conv (Conv2D)      (None, 112, 112, 128 73728       block1_pool[0][0]                \n",
            "__________________________________________________________________________________________________\n",
            "block2_conv1_bn (BatchNormaliza (None, 112, 112, 128 384         block2_conv1_conv[0][0]          \n",
            "__________________________________________________________________________________________________\n",
            "block2_conv1_act (Activation)   (None, 112, 112, 128 0           block2_conv1_bn[0][0]            \n",
            "__________________________________________________________________________________________________\n",
            "block2_conv2_conv (Conv2D)      (None, 112, 112, 128 147456      block2_conv1_act[0][0]           \n",
            "__________________________________________________________________________________________________\n",
            "block2_conv2_bn (BatchNormaliza (None, 112, 112, 128 384         block2_conv2_conv[0][0]          \n",
            "__________________________________________________________________________________________________\n",
            "block2_conv2_act (Activation)   (None, 112, 112, 128 0           block2_conv2_bn[0][0]            \n",
            "__________________________________________________________________________________________________\n",
            "block2_pool (MaxPooling2D)      (None, 56, 56, 128)  0           block2_conv2_act[0][0]           \n",
            "__________________________________________________________________________________________________\n",
            "conv2d_20 (Conv2D)              (None, 56, 56, 32)   4128        block2_pool[0][0]                \n",
            "__________________________________________________________________________________________________\n",
            "conv2d_18 (Conv2D)              (None, 56, 56, 32)   4128        block2_pool[0][0]                \n",
            "__________________________________________________________________________________________________\n",
            "conv2d_21 (Conv2D)              (None, 56, 56, 48)   13872       conv2d_20[0][0]                  \n",
            "__________________________________________________________________________________________________\n",
            "conv2d_17 (Conv2D)              (None, 56, 56, 32)   4128        block2_pool[0][0]                \n",
            "__________________________________________________________________________________________________\n",
            "conv2d_19 (Conv2D)              (None, 56, 56, 32)   9248        conv2d_18[0][0]                  \n",
            "__________________________________________________________________________________________________\n",
            "conv2d_22 (Conv2D)              (None, 56, 56, 64)   27712       conv2d_21[0][0]                  \n",
            "__________________________________________________________________________________________________\n",
            "concatenate_17 (Concatenate)    (None, 56, 56, 128)  0           conv2d_17[0][0]                  \n",
            "                                                                 conv2d_19[0][0]                  \n",
            "                                                                 conv2d_22[0][0]                  \n",
            "__________________________________________________________________________________________________\n",
            "conv2d_23 (Conv2D)              (None, 56, 56, 128)  16384       concatenate_17[0][0]             \n",
            "__________________________________________________________________________________________________\n",
            "batch_normalization_17 (BatchNo (None, 56, 56, 128)  384         conv2d_23[0][0]                  \n",
            "__________________________________________________________________________________________________\n",
            "lambda_17 (Lambda)              (None, 56, 56, 128)  0           block2_pool[0][0]                \n",
            "                                                                 batch_normalization_17[0][0]     \n",
            "__________________________________________________________________________________________________\n",
            "activation_17 (Activation)      (None, 56, 56, 128)  0           lambda_17[0][0]                  \n",
            "__________________________________________________________________________________________________\n",
            "conv2d_27 (Conv2D)              (None, 56, 56, 32)   4128        activation_17[0][0]              \n",
            "__________________________________________________________________________________________________\n",
            "conv2d_25 (Conv2D)              (None, 56, 56, 32)   4128        activation_17[0][0]              \n",
            "__________________________________________________________________________________________________\n",
            "conv2d_28 (Conv2D)              (None, 56, 56, 48)   13872       conv2d_27[0][0]                  \n",
            "__________________________________________________________________________________________________\n",
            "conv2d_24 (Conv2D)              (None, 56, 56, 32)   4128        activation_17[0][0]              \n",
            "__________________________________________________________________________________________________\n",
            "conv2d_26 (Conv2D)              (None, 56, 56, 32)   9248        conv2d_25[0][0]                  \n",
            "__________________________________________________________________________________________________\n",
            "conv2d_29 (Conv2D)              (None, 56, 56, 64)   27712       conv2d_28[0][0]                  \n",
            "__________________________________________________________________________________________________\n",
            "concatenate_18 (Concatenate)    (None, 56, 56, 128)  0           conv2d_24[0][0]                  \n",
            "                                                                 conv2d_26[0][0]                  \n",
            "                                                                 conv2d_29[0][0]                  \n",
            "__________________________________________________________________________________________________\n",
            "conv2d_30 (Conv2D)              (None, 56, 56, 128)  16384       concatenate_18[0][0]             \n",
            "__________________________________________________________________________________________________\n",
            "batch_normalization_18 (BatchNo (None, 56, 56, 128)  384         conv2d_30[0][0]                  \n",
            "__________________________________________________________________________________________________\n",
            "lambda_18 (Lambda)              (None, 56, 56, 128)  0           activation_17[0][0]              \n",
            "                                                                 batch_normalization_18[0][0]     \n",
            "__________________________________________________________________________________________________\n",
            "activation_18 (Activation)      (None, 56, 56, 128)  0           lambda_18[0][0]                  \n",
            "__________________________________________________________________________________________________\n",
            "conv2d_34 (Conv2D)              (None, 56, 56, 32)   4128        activation_18[0][0]              \n",
            "__________________________________________________________________________________________________\n",
            "conv2d_32 (Conv2D)              (None, 56, 56, 32)   4128        activation_18[0][0]              \n",
            "__________________________________________________________________________________________________\n",
            "conv2d_35 (Conv2D)              (None, 56, 56, 48)   13872       conv2d_34[0][0]                  \n",
            "__________________________________________________________________________________________________\n",
            "conv2d_31 (Conv2D)              (None, 56, 56, 32)   4128        activation_18[0][0]              \n",
            "__________________________________________________________________________________________________\n",
            "conv2d_33 (Conv2D)              (None, 56, 56, 32)   9248        conv2d_32[0][0]                  \n",
            "__________________________________________________________________________________________________\n",
            "conv2d_36 (Conv2D)              (None, 56, 56, 64)   27712       conv2d_35[0][0]                  \n",
            "__________________________________________________________________________________________________\n",
            "concatenate_19 (Concatenate)    (None, 56, 56, 128)  0           conv2d_31[0][0]                  \n",
            "                                                                 conv2d_33[0][0]                  \n",
            "                                                                 conv2d_36[0][0]                  \n",
            "__________________________________________________________________________________________________\n",
            "conv2d_37 (Conv2D)              (None, 56, 56, 128)  16384       concatenate_19[0][0]             \n",
            "__________________________________________________________________________________________________\n",
            "batch_normalization_19 (BatchNo (None, 56, 56, 128)  384         conv2d_37[0][0]                  \n",
            "__________________________________________________________________________________________________\n",
            "lambda_19 (Lambda)              (None, 56, 56, 128)  0           activation_18[0][0]              \n",
            "                                                                 batch_normalization_19[0][0]     \n",
            "__________________________________________________________________________________________________\n",
            "activation_19 (Activation)      (None, 56, 56, 128)  0           lambda_19[0][0]                  \n",
            "__________________________________________________________________________________________________\n",
            "block3_pool (MaxPooling2D)      (None, 28, 28, 128)  0           activation_19[0][0]              \n",
            "__________________________________________________________________________________________________\n",
            "block4_conv1_conv (Conv2D)      (None, 28, 28, 512)  589824      block3_pool[0][0]                \n",
            "__________________________________________________________________________________________________\n",
            "block4_conv1_bn (BatchNormaliza (None, 28, 28, 512)  1536        block4_conv1_conv[0][0]          \n",
            "__________________________________________________________________________________________________\n",
            "block4_conv1_act (Activation)   (None, 28, 28, 512)  0           block4_conv1_bn[0][0]            \n",
            "__________________________________________________________________________________________________\n",
            "block4_conv2_conv (Conv2D)      (None, 28, 28, 512)  2359296     block4_conv1_act[0][0]           \n",
            "__________________________________________________________________________________________________\n",
            "block4_conv2_bn (BatchNormaliza (None, 28, 28, 512)  1536        block4_conv2_conv[0][0]          \n",
            "__________________________________________________________________________________________________\n",
            "block4_conv2_act (Activation)   (None, 28, 28, 512)  0           block4_conv2_bn[0][0]            \n",
            "__________________________________________________________________________________________________\n",
            "block4_conv3_conv (Conv2D)      (None, 28, 28, 512)  2359296     block4_conv2_act[0][0]           \n",
            "__________________________________________________________________________________________________\n",
            "block4_conv3_bn (BatchNormaliza (None, 28, 28, 512)  1536        block4_conv3_conv[0][0]          \n",
            "__________________________________________________________________________________________________\n",
            "block4_conv3_act (Activation)   (None, 28, 28, 512)  0           block4_conv3_bn[0][0]            \n",
            "__________________________________________________________________________________________________\n",
            "block4_pool (MaxPooling2D)      (None, 14, 14, 512)  0           block4_conv3_act[0][0]           \n",
            "__________________________________________________________________________________________________\n",
            "conv2d_39 (Conv2D)              (None, 14, 14, 128)  65664       block4_pool[0][0]                \n",
            "__________________________________________________________________________________________________\n",
            "conv2d_40 (Conv2D)              (None, 14, 14, 160)  143520      conv2d_39[0][0]                  \n",
            "__________________________________________________________________________________________________\n",
            "conv2d_38 (Conv2D)              (None, 14, 14, 192)  98496       block4_pool[0][0]                \n",
            "__________________________________________________________________________________________________\n",
            "conv2d_41 (Conv2D)              (None, 14, 14, 192)  215232      conv2d_40[0][0]                  \n",
            "__________________________________________________________________________________________________\n",
            "concatenate_20 (Concatenate)    (None, 14, 14, 384)  0           conv2d_38[0][0]                  \n",
            "                                                                 conv2d_41[0][0]                  \n",
            "__________________________________________________________________________________________________\n",
            "conv2d_42 (Conv2D)              (None, 14, 14, 512)  196608      concatenate_20[0][0]             \n",
            "__________________________________________________________________________________________________\n",
            "batch_normalization_20 (BatchNo (None, 14, 14, 512)  1536        conv2d_42[0][0]                  \n",
            "__________________________________________________________________________________________________\n",
            "lambda_20 (Lambda)              (None, 14, 14, 512)  0           block4_pool[0][0]                \n",
            "                                                                 batch_normalization_20[0][0]     \n",
            "__________________________________________________________________________________________________\n",
            "activation_20 (Activation)      (None, 14, 14, 512)  0           lambda_20[0][0]                  \n",
            "__________________________________________________________________________________________________\n",
            "conv2d_44 (Conv2D)              (None, 14, 14, 128)  65664       activation_20[0][0]              \n",
            "__________________________________________________________________________________________________\n",
            "conv2d_45 (Conv2D)              (None, 14, 14, 160)  143520      conv2d_44[0][0]                  \n",
            "__________________________________________________________________________________________________\n",
            "conv2d_43 (Conv2D)              (None, 14, 14, 192)  98496       activation_20[0][0]              \n",
            "__________________________________________________________________________________________________\n",
            "conv2d_46 (Conv2D)              (None, 14, 14, 192)  215232      conv2d_45[0][0]                  \n",
            "__________________________________________________________________________________________________\n",
            "concatenate_21 (Concatenate)    (None, 14, 14, 384)  0           conv2d_43[0][0]                  \n",
            "                                                                 conv2d_46[0][0]                  \n",
            "__________________________________________________________________________________________________\n",
            "conv2d_47 (Conv2D)              (None, 14, 14, 512)  196608      concatenate_21[0][0]             \n",
            "__________________________________________________________________________________________________\n",
            "batch_normalization_21 (BatchNo (None, 14, 14, 512)  1536        conv2d_47[0][0]                  \n",
            "__________________________________________________________________________________________________\n",
            "lambda_21 (Lambda)              (None, 14, 14, 512)  0           activation_20[0][0]              \n",
            "                                                                 batch_normalization_21[0][0]     \n",
            "__________________________________________________________________________________________________\n",
            "activation_21 (Activation)      (None, 14, 14, 512)  0           lambda_21[0][0]                  \n",
            "__________________________________________________________________________________________________\n",
            "conv2d_49 (Conv2D)              (None, 14, 14, 128)  65664       activation_21[0][0]              \n",
            "__________________________________________________________________________________________________\n",
            "conv2d_50 (Conv2D)              (None, 14, 14, 160)  143520      conv2d_49[0][0]                  \n",
            "__________________________________________________________________________________________________\n",
            "conv2d_48 (Conv2D)              (None, 14, 14, 192)  98496       activation_21[0][0]              \n",
            "__________________________________________________________________________________________________\n",
            "conv2d_51 (Conv2D)              (None, 14, 14, 192)  215232      conv2d_50[0][0]                  \n",
            "__________________________________________________________________________________________________\n",
            "concatenate_22 (Concatenate)    (None, 14, 14, 384)  0           conv2d_48[0][0]                  \n",
            "                                                                 conv2d_51[0][0]                  \n",
            "__________________________________________________________________________________________________\n",
            "conv2d_52 (Conv2D)              (None, 14, 14, 512)  196608      concatenate_22[0][0]             \n",
            "__________________________________________________________________________________________________\n",
            "batch_normalization_22 (BatchNo (None, 14, 14, 512)  1536        conv2d_52[0][0]                  \n",
            "__________________________________________________________________________________________________\n",
            "lambda_22 (Lambda)              (None, 14, 14, 512)  0           activation_21[0][0]              \n",
            "                                                                 batch_normalization_22[0][0]     \n",
            "__________________________________________________________________________________________________\n",
            "activation_22 (Activation)      (None, 14, 14, 512)  0           lambda_22[0][0]                  \n",
            "__________________________________________________________________________________________________\n",
            "block5_pool (MaxPooling2D)      (None, 7, 7, 512)    0           activation_22[0][0]              \n",
            "__________________________________________________________________________________________________\n",
            "global_max_pooling2d_3 (GlobalM (None, 512)          0           block5_pool[0][0]                \n",
            "==================================================================================================\n",
            "Total params: 7,975,920\n",
            "Trainable params: 7,968,240\n",
            "Non-trainable params: 7,680\n",
            "__________________________________________________________________________________________________\n"
          ],
          "name": "stdout"
        }
      ]
    }
  ]
}