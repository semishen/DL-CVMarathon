{
  "nbformat": 4,
  "nbformat_minor": 0,
  "metadata": {
    "kernelspec": {
      "display_name": "Python 3",
      "language": "python",
      "name": "python3"
    },
    "language_info": {
      "codemirror_mode": {
        "name": "ipython",
        "version": 3
      },
      "file_extension": ".py",
      "mimetype": "text/x-python",
      "name": "python",
      "nbconvert_exporter": "python",
      "pygments_lexer": "ipython3",
      "version": "3.6.7"
    },
    "colab": {
      "name": "Day015_Cifar_HW.ipynb",
      "provenance": [],
      "include_colab_link": true
    },
    "accelerator": "GPU"
  },
  "cells": [
    {
      "cell_type": "markdown",
      "metadata": {
        "id": "view-in-github",
        "colab_type": "text"
      },
      "source": [
        "<a href=\"https://colab.research.google.com/github/semishen/DL-CVMarathon/blob/master/Day015_Cifar_HW.ipynb\" target=\"_parent\"><img src=\"https://colab.research.google.com/assets/colab-badge.svg\" alt=\"Open In Colab\"/></a>"
      ]
    },
    {
      "cell_type": "markdown",
      "metadata": {
        "id": "VUqXY56cb39R",
        "colab_type": "text"
      },
      "source": [
        "## 『本次練習內容』\n",
        "#### 運用這幾天所學觀念搭建一個CNN分類器"
      ]
    },
    {
      "cell_type": "markdown",
      "metadata": {
        "id": "VCZHgVOHb39S",
        "colab_type": "text"
      },
      "source": [
        "## 『本次練習目的』\n",
        "  #### 熟悉CNN分類器搭建步驟與原理\n",
        "  #### 學員們可以嘗試不同搭法，如使用不同的Maxpooling層，用GlobalAveragePooling取代Flatten等等"
      ]
    },
    {
      "cell_type": "code",
      "metadata": {
        "id": "P5E7tHqBb39S",
        "colab_type": "code",
        "colab": {
          "base_uri": "https://localhost:8080/",
          "height": 35
        },
        "outputId": "5ee3438c-4cd8-44b6-b047-6d4daa635e80"
      },
      "source": [
        "from keras.models import Sequential\n",
        "from keras.layers import Convolution2D\n",
        "from keras.layers import MaxPooling2D\n",
        "from keras.layers import Flatten\n",
        "from keras.layers import Dense\n",
        "from keras.layers import Dropout\n",
        "from keras.layers import BatchNormalization\n",
        "from keras.layers import Activation\n",
        "\n",
        "import keras.utils\n",
        "from keras.datasets import cifar10\n",
        "\n",
        "import numpy as np\n",
        "import matplotlib.pyplot as plt\n"
      ],
      "execution_count": 2,
      "outputs": [
        {
          "output_type": "stream",
          "text": [
            "Using TensorFlow backend.\n"
          ],
          "name": "stderr"
        }
      ]
    },
    {
      "cell_type": "code",
      "metadata": {
        "id": "n-6b0WJMd64F",
        "colab_type": "code",
        "colab": {
          "base_uri": "https://localhost:8080/",
          "height": 53
        },
        "outputId": "12e837a5-32ad-4bc7-a023-96dbc0626f50"
      },
      "source": [
        "(x_train, y_train), (x_test, y_test) = cifar10.load_data()"
      ],
      "execution_count": 3,
      "outputs": [
        {
          "output_type": "stream",
          "text": [
            "Downloading data from https://www.cs.toronto.edu/~kriz/cifar-10-python.tar.gz\n",
            "170500096/170498071 [==============================] - 6s 0us/step\n"
          ],
          "name": "stdout"
        }
      ]
    },
    {
      "cell_type": "code",
      "metadata": {
        "id": "FNIkDSRPb39W",
        "colab_type": "code",
        "colab": {
          "base_uri": "https://localhost:8080/",
          "height": 35
        },
        "outputId": "e4452b91-e375-4f54-d2f3-19c6a3bf6c77"
      },
      "source": [
        "print(x_train.shape) #(50000, 32, 32, 3)\n",
        "\n",
        "## Normalize Data\n",
        "def normalize(X_train,X_test):\n",
        "        mean = np.mean(X_train,axis=(0,1,2,3))\n",
        "        std = np.std(X_train, axis=(0,1,2,3))\n",
        "        X_train = (X_train-mean)/(std+1e-7)\n",
        "        X_test = (X_test-mean)/(std+1e-7) \n",
        "        return X_train, X_test, mean, std\n",
        "    \n",
        "    \n",
        "## Normalize Training and Testset    \n",
        "x_train, x_test, mean_train, std_train = normalize(x_train, x_test) "
      ],
      "execution_count": 4,
      "outputs": [
        {
          "output_type": "stream",
          "text": [
            "(50000, 32, 32, 3)\n"
          ],
          "name": "stdout"
        }
      ]
    },
    {
      "cell_type": "code",
      "metadata": {
        "id": "E2d2cTOhb39Y",
        "colab_type": "code",
        "colab": {}
      },
      "source": [
        "# ## OneHot Label 由(None, 1)-(None, 10)\n",
        "# ## ex. label=2,變成[0,0,1,0,0,0,0,0,0,0]\n",
        "# one_hot=OneHotEncoder()\n",
        "# y_train=one_hot.fit_transform(y_train).toarray()\n",
        "# y_test=one_hot.transform(y_test).toarray()\n",
        "\n",
        "# Convert class vectors to binary class matrices.\n",
        "y_train = keras.utils.to_categorical(y_train, 10)\n",
        "y_test = keras.utils.to_categorical(y_test, 10)"
      ],
      "execution_count": 0,
      "outputs": []
    },
    {
      "cell_type": "code",
      "metadata": {
        "id": "AtbQcapWb39b",
        "colab_type": "code",
        "colab": {
          "base_uri": "https://localhost:8080/",
          "height": 1000
        },
        "outputId": "4fede859-548d-42a5-e418-bda9c58d78c6"
      },
      "source": [
        "classifier=Sequential()\n",
        "\n",
        "#卷積組合\n",
        "classifier.add(Convolution2D(kernel_size=(3,3), filters=16, input_shape=(32,32,3)))#32,3,3,input_shape=(32,32,3),activation='relu''\n",
        "classifier.add(BatchNormalization())\n",
        "classifier.add(Activation('relu'))\n",
        "'''自己決定MaxPooling2D放在哪裡'''\n",
        "classifier.add(MaxPooling2D(pool_size=(2,2)))\n",
        "\n",
        "#卷積組合\n",
        "classifier.add(Convolution2D(kernel_size=(3,3), filters=32))\n",
        "classifier.add(BatchNormalization())\n",
        "classifier.add(Activation('relu'))\n",
        "classifier.add(MaxPooling2D(pool_size=(2,2)))\n",
        "\n",
        "#flatten\n",
        "classifier.add(Flatten())\n",
        "\n",
        "#FC\n",
        "classifier.add(Dense(100)) #output_dim=100,activation=relu\n",
        "classifier.add(Activation('relu'))\n",
        "\n",
        "\n",
        "#輸出\n",
        "classifier.add(Dense(units=10,activation='softmax'))\n",
        "classifier.summary()\n",
        "\n",
        "#超過兩個就要選categorical_crossentrophy\n",
        "classifier.compile(optimizer = 'adam', loss = 'categorical_crossentropy', metrics = ['accuracy'])\n",
        "classifier.fit(x_train,y_train,batch_size=100,epochs=100)"
      ],
      "execution_count": 6,
      "outputs": [
        {
          "output_type": "stream",
          "text": [
            "Model: \"sequential_1\"\n",
            "_________________________________________________________________\n",
            "Layer (type)                 Output Shape              Param #   \n",
            "=================================================================\n",
            "conv2d_1 (Conv2D)            (None, 30, 30, 16)        448       \n",
            "_________________________________________________________________\n",
            "batch_normalization_1 (Batch (None, 30, 30, 16)        64        \n",
            "_________________________________________________________________\n",
            "activation_1 (Activation)    (None, 30, 30, 16)        0         \n",
            "_________________________________________________________________\n",
            "max_pooling2d_1 (MaxPooling2 (None, 15, 15, 16)        0         \n",
            "_________________________________________________________________\n",
            "conv2d_2 (Conv2D)            (None, 13, 13, 32)        4640      \n",
            "_________________________________________________________________\n",
            "batch_normalization_2 (Batch (None, 13, 13, 32)        128       \n",
            "_________________________________________________________________\n",
            "activation_2 (Activation)    (None, 13, 13, 32)        0         \n",
            "_________________________________________________________________\n",
            "max_pooling2d_2 (MaxPooling2 (None, 6, 6, 32)          0         \n",
            "_________________________________________________________________\n",
            "flatten_1 (Flatten)          (None, 1152)              0         \n",
            "_________________________________________________________________\n",
            "dense_1 (Dense)              (None, 100)               115300    \n",
            "_________________________________________________________________\n",
            "activation_3 (Activation)    (None, 100)               0         \n",
            "_________________________________________________________________\n",
            "dense_2 (Dense)              (None, 10)                1010      \n",
            "=================================================================\n",
            "Total params: 121,590\n",
            "Trainable params: 121,494\n",
            "Non-trainable params: 96\n",
            "_________________________________________________________________\n",
            "Epoch 1/100\n",
            "50000/50000 [==============================] - 11s 223us/step - loss: 1.4265 - accuracy: 0.4910\n",
            "Epoch 2/100\n",
            "50000/50000 [==============================] - 4s 80us/step - loss: 1.0835 - accuracy: 0.6205\n",
            "Epoch 3/100\n",
            "50000/50000 [==============================] - 4s 81us/step - loss: 0.9604 - accuracy: 0.6636\n",
            "Epoch 4/100\n",
            "50000/50000 [==============================] - 4s 82us/step - loss: 0.8802 - accuracy: 0.6919\n",
            "Epoch 5/100\n",
            "50000/50000 [==============================] - 4s 85us/step - loss: 0.8160 - accuracy: 0.7158\n",
            "Epoch 6/100\n",
            "50000/50000 [==============================] - 4s 79us/step - loss: 0.7704 - accuracy: 0.7313\n",
            "Epoch 7/100\n",
            "50000/50000 [==============================] - 4s 79us/step - loss: 0.7336 - accuracy: 0.7429\n",
            "Epoch 8/100\n",
            "50000/50000 [==============================] - 4s 80us/step - loss: 0.6911 - accuracy: 0.7570\n",
            "Epoch 9/100\n",
            "50000/50000 [==============================] - 4s 81us/step - loss: 0.6601 - accuracy: 0.7682\n",
            "Epoch 10/100\n",
            "50000/50000 [==============================] - 4s 81us/step - loss: 0.6307 - accuracy: 0.7788\n",
            "Epoch 11/100\n",
            "50000/50000 [==============================] - 4s 83us/step - loss: 0.6029 - accuracy: 0.7895\n",
            "Epoch 12/100\n",
            "50000/50000 [==============================] - 4s 80us/step - loss: 0.5707 - accuracy: 0.8006\n",
            "Epoch 13/100\n",
            "50000/50000 [==============================] - 4s 80us/step - loss: 0.5503 - accuracy: 0.8072\n",
            "Epoch 14/100\n",
            "50000/50000 [==============================] - 4s 81us/step - loss: 0.5259 - accuracy: 0.8162\n",
            "Epoch 15/100\n",
            "50000/50000 [==============================] - 4s 82us/step - loss: 0.5003 - accuracy: 0.8247\n",
            "Epoch 16/100\n",
            "50000/50000 [==============================] - 4s 86us/step - loss: 0.4860 - accuracy: 0.8302\n",
            "Epoch 17/100\n",
            "50000/50000 [==============================] - 4s 86us/step - loss: 0.4629 - accuracy: 0.8381\n",
            "Epoch 18/100\n",
            "50000/50000 [==============================] - 4s 80us/step - loss: 0.4480 - accuracy: 0.8443\n",
            "Epoch 19/100\n",
            "50000/50000 [==============================] - 4s 79us/step - loss: 0.4348 - accuracy: 0.8473\n",
            "Epoch 20/100\n",
            "50000/50000 [==============================] - 4s 81us/step - loss: 0.4107 - accuracy: 0.8554\n",
            "Epoch 21/100\n",
            "50000/50000 [==============================] - 4s 81us/step - loss: 0.3921 - accuracy: 0.8621\n",
            "Epoch 22/100\n",
            "50000/50000 [==============================] - 4s 79us/step - loss: 0.3790 - accuracy: 0.8669\n",
            "Epoch 23/100\n",
            "50000/50000 [==============================] - 4s 79us/step - loss: 0.3635 - accuracy: 0.8727\n",
            "Epoch 24/100\n",
            "50000/50000 [==============================] - 4s 82us/step - loss: 0.3478 - accuracy: 0.8783\n",
            "Epoch 25/100\n",
            "50000/50000 [==============================] - 4s 81us/step - loss: 0.3304 - accuracy: 0.8851\n",
            "Epoch 26/100\n",
            "50000/50000 [==============================] - 4s 80us/step - loss: 0.3193 - accuracy: 0.8884\n",
            "Epoch 27/100\n",
            "50000/50000 [==============================] - 4s 84us/step - loss: 0.3084 - accuracy: 0.8918\n",
            "Epoch 28/100\n",
            "50000/50000 [==============================] - 4s 85us/step - loss: 0.2905 - accuracy: 0.8992\n",
            "Epoch 29/100\n",
            "50000/50000 [==============================] - 4s 82us/step - loss: 0.2829 - accuracy: 0.9004\n",
            "Epoch 30/100\n",
            "50000/50000 [==============================] - 4s 79us/step - loss: 0.2761 - accuracy: 0.9019\n",
            "Epoch 31/100\n",
            "50000/50000 [==============================] - 4s 81us/step - loss: 0.2526 - accuracy: 0.9119\n",
            "Epoch 32/100\n",
            "50000/50000 [==============================] - 4s 79us/step - loss: 0.2497 - accuracy: 0.9117\n",
            "Epoch 33/100\n",
            "50000/50000 [==============================] - 4s 81us/step - loss: 0.2336 - accuracy: 0.9181\n",
            "Epoch 34/100\n",
            "50000/50000 [==============================] - 4s 81us/step - loss: 0.2337 - accuracy: 0.9171\n",
            "Epoch 35/100\n",
            "50000/50000 [==============================] - 4s 80us/step - loss: 0.2184 - accuracy: 0.9233\n",
            "Epoch 36/100\n",
            "50000/50000 [==============================] - 4s 86us/step - loss: 0.2091 - accuracy: 0.9263\n",
            "Epoch 37/100\n",
            "50000/50000 [==============================] - 4s 84us/step - loss: 0.2047 - accuracy: 0.9279\n",
            "Epoch 38/100\n",
            "50000/50000 [==============================] - 4s 83us/step - loss: 0.1946 - accuracy: 0.9296\n",
            "Epoch 39/100\n",
            "50000/50000 [==============================] - 4s 84us/step - loss: 0.1876 - accuracy: 0.9339\n",
            "Epoch 40/100\n",
            "50000/50000 [==============================] - 4s 85us/step - loss: 0.1828 - accuracy: 0.9357\n",
            "Epoch 41/100\n",
            "50000/50000 [==============================] - 4s 85us/step - loss: 0.1712 - accuracy: 0.9394\n",
            "Epoch 42/100\n",
            "50000/50000 [==============================] - 4s 81us/step - loss: 0.1674 - accuracy: 0.9408\n",
            "Epoch 43/100\n",
            "50000/50000 [==============================] - 4s 79us/step - loss: 0.1647 - accuracy: 0.9410\n",
            "Epoch 44/100\n",
            "50000/50000 [==============================] - 4s 82us/step - loss: 0.1582 - accuracy: 0.9437\n",
            "Epoch 45/100\n",
            "50000/50000 [==============================] - 4s 82us/step - loss: 0.1488 - accuracy: 0.9470\n",
            "Epoch 46/100\n",
            "50000/50000 [==============================] - 4s 81us/step - loss: 0.1470 - accuracy: 0.9474\n",
            "Epoch 47/100\n",
            "50000/50000 [==============================] - 4s 83us/step - loss: 0.1360 - accuracy: 0.9530\n",
            "Epoch 48/100\n",
            "50000/50000 [==============================] - 4s 82us/step - loss: 0.1365 - accuracy: 0.9515\n",
            "Epoch 49/100\n",
            "50000/50000 [==============================] - 4s 84us/step - loss: 0.1338 - accuracy: 0.9528\n",
            "Epoch 50/100\n",
            "50000/50000 [==============================] - 4s 81us/step - loss: 0.1305 - accuracy: 0.9534\n",
            "Epoch 51/100\n",
            "50000/50000 [==============================] - 4s 82us/step - loss: 0.1197 - accuracy: 0.9581\n",
            "Epoch 52/100\n",
            "50000/50000 [==============================] - 4s 83us/step - loss: 0.1192 - accuracy: 0.9581\n",
            "Epoch 53/100\n",
            "50000/50000 [==============================] - 4s 80us/step - loss: 0.1183 - accuracy: 0.9579\n",
            "Epoch 54/100\n",
            "50000/50000 [==============================] - 4s 84us/step - loss: 0.1056 - accuracy: 0.9629\n",
            "Epoch 55/100\n",
            "50000/50000 [==============================] - 4s 82us/step - loss: 0.1140 - accuracy: 0.9593\n",
            "Epoch 56/100\n",
            "50000/50000 [==============================] - 4s 82us/step - loss: 0.1101 - accuracy: 0.9616\n",
            "Epoch 57/100\n",
            "50000/50000 [==============================] - 4s 82us/step - loss: 0.1042 - accuracy: 0.9631\n",
            "Epoch 58/100\n",
            "50000/50000 [==============================] - 4s 83us/step - loss: 0.1006 - accuracy: 0.9647\n",
            "Epoch 59/100\n",
            "50000/50000 [==============================] - 4s 82us/step - loss: 0.1021 - accuracy: 0.9641\n",
            "Epoch 60/100\n",
            "50000/50000 [==============================] - 4s 86us/step - loss: 0.0998 - accuracy: 0.9636\n",
            "Epoch 61/100\n",
            "50000/50000 [==============================] - 4s 82us/step - loss: 0.0947 - accuracy: 0.9659\n",
            "Epoch 62/100\n",
            "50000/50000 [==============================] - 4s 80us/step - loss: 0.0864 - accuracy: 0.9698\n",
            "Epoch 63/100\n",
            "50000/50000 [==============================] - 4s 86us/step - loss: 0.0921 - accuracy: 0.9670\n",
            "Epoch 64/100\n",
            "50000/50000 [==============================] - 4s 85us/step - loss: 0.0828 - accuracy: 0.9710\n",
            "Epoch 65/100\n",
            "50000/50000 [==============================] - 4s 81us/step - loss: 0.0890 - accuracy: 0.9683\n",
            "Epoch 66/100\n",
            "50000/50000 [==============================] - 4s 79us/step - loss: 0.0820 - accuracy: 0.9723\n",
            "Epoch 67/100\n",
            "50000/50000 [==============================] - 4s 82us/step - loss: 0.0748 - accuracy: 0.9744\n",
            "Epoch 68/100\n",
            "50000/50000 [==============================] - 4s 81us/step - loss: 0.0814 - accuracy: 0.9710\n",
            "Epoch 69/100\n",
            "50000/50000 [==============================] - 4s 80us/step - loss: 0.0819 - accuracy: 0.9714\n",
            "Epoch 70/100\n",
            "50000/50000 [==============================] - 4s 81us/step - loss: 0.0807 - accuracy: 0.9716\n",
            "Epoch 71/100\n",
            "50000/50000 [==============================] - 4s 80us/step - loss: 0.0753 - accuracy: 0.9736\n",
            "Epoch 72/100\n",
            "50000/50000 [==============================] - 4s 82us/step - loss: 0.0722 - accuracy: 0.9748\n",
            "Epoch 73/100\n",
            "50000/50000 [==============================] - 4s 85us/step - loss: 0.0738 - accuracy: 0.9743\n",
            "Epoch 74/100\n",
            "50000/50000 [==============================] - 4s 82us/step - loss: 0.0762 - accuracy: 0.9736\n",
            "Epoch 75/100\n",
            "50000/50000 [==============================] - 4s 80us/step - loss: 0.0763 - accuracy: 0.9732\n",
            "Epoch 76/100\n",
            "50000/50000 [==============================] - 4s 80us/step - loss: 0.0703 - accuracy: 0.9759\n",
            "Epoch 77/100\n",
            "50000/50000 [==============================] - 4s 82us/step - loss: 0.0690 - accuracy: 0.9758\n",
            "Epoch 78/100\n",
            "50000/50000 [==============================] - 4s 88us/step - loss: 0.0623 - accuracy: 0.9781\n",
            "Epoch 79/100\n",
            "50000/50000 [==============================] - 4s 81us/step - loss: 0.0732 - accuracy: 0.9738\n",
            "Epoch 80/100\n",
            "50000/50000 [==============================] - 4s 87us/step - loss: 0.0704 - accuracy: 0.9747\n",
            "Epoch 81/100\n",
            "50000/50000 [==============================] - 4s 81us/step - loss: 0.0648 - accuracy: 0.9769\n",
            "Epoch 82/100\n",
            "50000/50000 [==============================] - 4s 84us/step - loss: 0.0619 - accuracy: 0.9778\n",
            "Epoch 83/100\n",
            "50000/50000 [==============================] - 4s 84us/step - loss: 0.0619 - accuracy: 0.9786\n",
            "Epoch 84/100\n",
            "50000/50000 [==============================] - 4s 84us/step - loss: 0.0584 - accuracy: 0.9796\n",
            "Epoch 85/100\n",
            "50000/50000 [==============================] - 4s 81us/step - loss: 0.0676 - accuracy: 0.9766\n",
            "Epoch 86/100\n",
            "50000/50000 [==============================] - 4s 80us/step - loss: 0.0599 - accuracy: 0.9787\n",
            "Epoch 87/100\n",
            "50000/50000 [==============================] - 4s 82us/step - loss: 0.0595 - accuracy: 0.9792\n",
            "Epoch 88/100\n",
            "50000/50000 [==============================] - 4s 83us/step - loss: 0.0558 - accuracy: 0.9801\n",
            "Epoch 89/100\n",
            "50000/50000 [==============================] - 4s 79us/step - loss: 0.0674 - accuracy: 0.9763\n",
            "Epoch 90/100\n",
            "50000/50000 [==============================] - 4s 82us/step - loss: 0.0548 - accuracy: 0.9813\n",
            "Epoch 91/100\n",
            "50000/50000 [==============================] - 4s 83us/step - loss: 0.0644 - accuracy: 0.9769\n",
            "Epoch 92/100\n",
            "50000/50000 [==============================] - 4s 87us/step - loss: 0.0506 - accuracy: 0.9825\n",
            "Epoch 93/100\n",
            "50000/50000 [==============================] - 4s 81us/step - loss: 0.0600 - accuracy: 0.9789\n",
            "Epoch 94/100\n",
            "50000/50000 [==============================] - 4s 79us/step - loss: 0.0593 - accuracy: 0.9794\n",
            "Epoch 95/100\n",
            "50000/50000 [==============================] - 4s 81us/step - loss: 0.0575 - accuracy: 0.9793\n",
            "Epoch 96/100\n",
            "50000/50000 [==============================] - 4s 80us/step - loss: 0.0491 - accuracy: 0.9830\n",
            "Epoch 97/100\n",
            "50000/50000 [==============================] - 4s 80us/step - loss: 0.0556 - accuracy: 0.9799\n",
            "Epoch 98/100\n",
            "50000/50000 [==============================] - 4s 81us/step - loss: 0.0508 - accuracy: 0.9818\n",
            "Epoch 99/100\n",
            "50000/50000 [==============================] - 4s 80us/step - loss: 0.0549 - accuracy: 0.9817\n",
            "Epoch 100/100\n",
            "50000/50000 [==============================] - 4s 85us/step - loss: 0.0508 - accuracy: 0.9819\n"
          ],
          "name": "stdout"
        },
        {
          "output_type": "execute_result",
          "data": {
            "text/plain": [
              "<keras.callbacks.callbacks.History at 0x7fbf1007bcf8>"
            ]
          },
          "metadata": {
            "tags": []
          },
          "execution_count": 6
        }
      ]
    },
    {
      "cell_type": "markdown",
      "metadata": {
        "id": "RXJIPLsab39d",
        "colab_type": "text"
      },
      "source": [
        "## 預測新圖片，輸入影像前處理要與訓練時相同\n",
        "#### ((X-mean)/(std+1e-7) ):這裡的mean跟std是訓練集的\n",
        "## 維度如下方示範"
      ]
    },
    {
      "cell_type": "code",
      "metadata": {
        "id": "cYk6R1WUb39d",
        "colab_type": "code",
        "colab": {
          "base_uri": "https://localhost:8080/",
          "height": 71
        },
        "outputId": "6fd2adec-bd9a-48d0-9276-ed3236252a53"
      },
      "source": [
        "index = 50\n",
        "input_example = x_test[index].reshape(1,32,32,3)\n",
        "# input_example.shape\n",
        "input_example=(input_example-mean_train)/(std_train+1e-7) \n",
        "print(classifier.predict(input_example))\n",
        "print(y_test[index])"
      ],
      "execution_count": 25,
      "outputs": [
        {
          "output_type": "stream",
          "text": [
            "[[9.8900187e-01 4.3648228e-18 1.9784315e-05 1.0233850e-02 6.6645944e-04\n",
            "  9.5122732e-10 1.2182406e-09 1.8907217e-06 7.6206437e-05 2.0525989e-18]]\n",
            "[0. 0. 0. 0. 0. 0. 0. 0. 0. 1.]\n"
          ],
          "name": "stdout"
        }
      ]
    },
    {
      "cell_type": "code",
      "metadata": {
        "id": "zcECJjemnb2u",
        "colab_type": "code",
        "colab": {}
      },
      "source": [
        ""
      ],
      "execution_count": 0,
      "outputs": []
    }
  ]
}