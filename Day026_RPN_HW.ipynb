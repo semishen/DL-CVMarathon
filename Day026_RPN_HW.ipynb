{
  "nbformat": 4,
  "nbformat_minor": 0,
  "metadata": {
    "kernelspec": {
      "display_name": "Python 3",
      "language": "python",
      "name": "python3"
    },
    "language_info": {
      "codemirror_mode": {
        "name": "ipython",
        "version": 3
      },
      "file_extension": ".py",
      "mimetype": "text/x-python",
      "name": "python",
      "nbconvert_exporter": "python",
      "pygments_lexer": "ipython3",
      "version": "3.6.7"
    },
    "colab": {
      "name": "Day026_RPN_HW.ipynb",
      "provenance": [],
      "include_colab_link": true
    }
  },
  "cells": [
    {
      "cell_type": "markdown",
      "metadata": {
        "id": "view-in-github",
        "colab_type": "text"
      },
      "source": [
        "<a href=\"https://colab.research.google.com/github/semishen/DL-CVMarathon/blob/master/Day026_RPN_HW.ipynb\" target=\"_parent\"><img src=\"https://colab.research.google.com/assets/colab-badge.svg\" alt=\"Open In Colab\"/></a>"
      ]
    },
    {
      "cell_type": "markdown",
      "metadata": {
        "id": "FDjD48JRj-AJ",
        "colab_type": "text"
      },
      "source": [
        "## 『本次練習內容』\n",
        "#### 學習搭建RPN層"
      ]
    },
    {
      "cell_type": "markdown",
      "metadata": {
        "id": "rVjF9WCLj-AK",
        "colab_type": "text"
      },
      "source": [
        "## 『本次練習目的』\n",
        "  #### 了解Object Detection演算法中是如何做到分類又回歸BBOX座標"
      ]
    },
    {
      "cell_type": "code",
      "metadata": {
        "id": "d-28tbQ5j-AL",
        "colab_type": "code",
        "colab": {
          "base_uri": "https://localhost:8080/",
          "height": 35
        },
        "outputId": "55426b13-4068-4ad9-a5f0-7e8db695b1e0"
      },
      "source": [
        "from keras.layers import Flatten, Dense, Input, Conv2D, MaxPooling2D, Dropout\n",
        "from keras.layers import GlobalAveragePooling2D, GlobalMaxPooling2D, TimeDistributed\n",
        "\n",
        "\n",
        "input_shape_img = (1024, 1024, 3) # so big\n",
        "img_input = Input(shape=input_shape_img)\n",
        "\n",
        "# CNN to get feature maps\n",
        "def nn_base(img_input):\n",
        "    # Block 1\n",
        "    x = Conv2D(64, (3, 3), activation='relu', padding='same', name='block1_conv1')(img_input)# (1024,1024,64) \n",
        "    x = Conv2D(64, (3, 3), activation='relu', padding='same', name='block1_conv2')(x) # (1024,1024,64) \n",
        "    x = MaxPooling2D((2, 2), strides=(2, 2), name='block1_pool')(x) # (512,512,64)\n",
        "\n",
        "    # Block 2\n",
        "    x = Conv2D(128, (3, 3), activation='relu', padding='same', name='block2_conv1')(x)# (512,512,128)\n",
        "    x = Conv2D(128, (3, 3), activation='relu', padding='same', name='block2_conv2')(x)# (512,512,128)\n",
        "    x = MaxPooling2D((2, 2), strides=(2, 2), name='block2_pool')(x) #(256,256,128)\n",
        "\n",
        "    # Block 3\n",
        "    x = Conv2D(256, (3, 3), activation='relu', padding='same', name='block3_conv1')(x)#(256,256,256)\n",
        "    x = Conv2D(256, (3, 3), activation='relu', padding='same', name='block3_conv2')(x)#(256,256,256)\n",
        "    x = Conv2D(256, (3, 3), activation='relu', padding='same', name='block3_conv3')(x)#(256,256,256)\n",
        "    x = MaxPooling2D((2, 2), strides=(2, 2), name='block3_pool')(x)#(128,128,256)\n",
        "\n",
        "    # Block 4\n",
        "    x = Conv2D(512, (3, 3), activation='relu', padding='same', name='block4_conv1')(x)#(128,128,512)\n",
        "    x = Conv2D(512, (3, 3), activation='relu', padding='same', name='block4_conv2')(x)#(128,128,512)\n",
        "    x = Conv2D(512, (3, 3), activation='relu', padding='same', name='block4_conv3')(x)#(128,128,512)\n",
        "    x = MaxPooling2D((2, 2), strides=(2, 2), name='block4_pool')(x)#(64,64,512)\n",
        "\n",
        "    # Block 5\n",
        "    x = Conv2D(512, (3, 3), activation='relu', padding='same', name='block5_conv1')(x)#(64,64,512)\n",
        "    x = Conv2D(512, (3, 3), activation='relu', padding='same', name='block5_conv2')(x)#(64,64,512)\n",
        "    x = Conv2D(512, (3, 3), activation='relu', padding='same', name='block5_conv3')(x)#(64,64,512)\n",
        "\n",
        "    return x"
      ],
      "execution_count": 1,
      "outputs": [
        {
          "output_type": "stream",
          "text": [
            "Using TensorFlow backend.\n"
          ],
          "name": "stderr"
        }
      ]
    },
    {
      "cell_type": "code",
      "metadata": {
        "id": "1k77DGPyj-AO",
        "colab_type": "code",
        "colab": {}
      },
      "source": [
        "# RPN\n",
        "def rpn(base_layers, num_anchors):\n",
        "\n",
        "    x = Conv2D(512, (3,3), activation='relu', padding='same', kernel_initializer='normal', name='rpn_conv1')(base_layers)\n",
        "\n",
        "    # rpn分類和迴歸\n",
        "    x_class = Conv2D(num_anchors*2, (1, 1), activation='softmax',name='rpn_out_class')(x)\n",
        "    x_reg = Conv2D(num_anchors *4, (1, 1), activation='linear', name='rpn_out_regress')(x)\n",
        "\n",
        "    return x_class, x_reg, base_layers"
      ],
      "execution_count": 2,
      "outputs": []
    },
    {
      "cell_type": "code",
      "metadata": {
        "id": "rtMNKpR_j-AQ",
        "colab_type": "code",
        "colab": {}
      },
      "source": [
        "base_layers=nn_base(img_input)"
      ],
      "execution_count": 3,
      "outputs": []
    },
    {
      "cell_type": "code",
      "metadata": {
        "id": "RhU9rdsYj-AS",
        "colab_type": "code",
        "colab": {}
      },
      "source": [
        "x_class, x_reg, base_layers=rpn(base_layers, 9)"
      ],
      "execution_count": 4,
      "outputs": []
    },
    {
      "cell_type": "code",
      "metadata": {
        "id": "owSvy9rFj-AU",
        "colab_type": "code",
        "colab": {
          "base_uri": "https://localhost:8080/",
          "height": 71
        },
        "outputId": "3d304f41-0dfa-490a-cf34-cc098fa760f2"
      },
      "source": [
        "print('Classification支線：',x_class) #'''確認深度是否為18'''\n",
        "print('BBOX Regression 支線：',x_reg) #'''確認深度是否為36'''\n",
        "print('CNN Output：',base_layers)"
      ],
      "execution_count": 5,
      "outputs": [
        {
          "output_type": "stream",
          "text": [
            "Classification支線： Tensor(\"rpn_out_class/truediv:0\", shape=(None, 64, 64, 18), dtype=float32)\n",
            "BBOX Regression 支線： Tensor(\"rpn_out_regress/BiasAdd:0\", shape=(None, 64, 64, 36), dtype=float32)\n",
            "CNN Output： Tensor(\"block5_conv3/Relu:0\", shape=(None, 64, 64, 512), dtype=float32)\n"
          ],
          "name": "stdout"
        }
      ]
    }
  ]
}