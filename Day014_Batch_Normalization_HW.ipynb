{
  "nbformat": 4,
  "nbformat_minor": 0,
  "metadata": {
    "kernelspec": {
      "display_name": "Python 3",
      "language": "python",
      "name": "python3"
    },
    "language_info": {
      "codemirror_mode": {
        "name": "ipython",
        "version": 3
      },
      "file_extension": ".py",
      "mimetype": "text/x-python",
      "name": "python",
      "nbconvert_exporter": "python",
      "pygments_lexer": "ipython3",
      "version": "3.6.7"
    },
    "colab": {
      "name": "Day014_Batch Normalization_HW.ipynb",
      "provenance": [],
      "include_colab_link": true
    }
  },
  "cells": [
    {
      "cell_type": "markdown",
      "metadata": {
        "id": "view-in-github",
        "colab_type": "text"
      },
      "source": [
        "<a href=\"https://colab.research.google.com/github/semishen/DL-CVMarathon/blob/master/Day014_Batch_Normalization_HW.ipynb\" target=\"_parent\"><img src=\"https://colab.research.google.com/assets/colab-badge.svg\" alt=\"Open In Colab\"/></a>"
      ]
    },
    {
      "cell_type": "markdown",
      "metadata": {
        "id": "9IoysAfAUVSm",
        "colab_type": "text"
      },
      "source": [
        "## 『本次練習內容』\n",
        "#### 搭建 Conv2D-BN-Activation層\n"
      ]
    },
    {
      "cell_type": "markdown",
      "metadata": {
        "id": "BhmQCMZYUVSn",
        "colab_type": "text"
      },
      "source": [
        "## 『本次練習目的』\n",
        "  #### 了解如何搭建CNN基礎架構，Conv2D-BN-Activation"
      ]
    },
    {
      "cell_type": "code",
      "metadata": {
        "id": "6m9MDOmtUVSn",
        "colab_type": "code",
        "colab": {
          "base_uri": "https://localhost:8080/",
          "height": 35
        },
        "outputId": "4402b89b-da35-4260-9472-548b2cf6cf7b"
      },
      "source": [
        "from keras.models import Sequential  #用來啟動 NN\n",
        "from keras.layers import Conv2D  # Convolution Operation\n",
        "from keras.layers import MaxPooling2D # Pooling\n",
        "from keras.layers import Flatten\n",
        "from keras.layers import Dense # Fully Connected Networks\n",
        "from keras.layers import BatchNormalization\n",
        "from keras.layers import Activation"
      ],
      "execution_count": 1,
      "outputs": [
        {
          "output_type": "stream",
          "text": [
            "Using TensorFlow backend.\n"
          ],
          "name": "stderr"
        }
      ]
    },
    {
      "cell_type": "markdown",
      "metadata": {
        "id": "CWj19ckwUVSq",
        "colab_type": "text"
      },
      "source": [
        "## 依照指示建立模型"
      ]
    },
    {
      "cell_type": "code",
      "metadata": {
        "id": "VJTSFQ7kUVSr",
        "colab_type": "code",
        "colab": {
          "base_uri": "https://localhost:8080/",
          "height": 377
        },
        "outputId": "5e7e15a0-bddb-4ae5-c12a-a900c65a7d5b"
      },
      "source": [
        "input_shape = (32, 32, 3)\n",
        "\n",
        "model = Sequential()\n",
        "\n",
        "##  Conv2D-BN-Activation('sigmoid') \n",
        "\n",
        "#BatchNormalization主要參數：\n",
        "#momentum: Momentum for the moving mean and the moving variance.\n",
        "#epsilon: Small float added to variance to avoid dividing by zero.\n",
        "\n",
        "model.add(Conv2D(kernel_size=(3,3), filters=32, padding='same', input_shape=input_shape))\n",
        "model.add(BatchNormalization(momentum=0.99, epsilon=0.001)) \n",
        "model.add(Activation('sigmoid'))\n",
        "\n",
        "\n",
        "##、 Conv2D-BN-Activation('relu')\n",
        "model.add(Conv2D(kernel_size=(3,3), padding='same', filters=32))\n",
        "model.add(BatchNormalization(momentum=0.99, epsilon=0.001)) \n",
        "model.add(Activation('relu'))\n",
        "\n",
        "\n",
        "model.summary()"
      ],
      "execution_count": 10,
      "outputs": [
        {
          "output_type": "stream",
          "text": [
            "Model: \"sequential_9\"\n",
            "_________________________________________________________________\n",
            "Layer (type)                 Output Shape              Param #   \n",
            "=================================================================\n",
            "conv2d_14 (Conv2D)           (None, 32, 32, 32)        896       \n",
            "_________________________________________________________________\n",
            "batch_normalization_13 (Batc (None, 32, 32, 32)        128       \n",
            "_________________________________________________________________\n",
            "activation_13 (Activation)   (None, 32, 32, 32)        0         \n",
            "_________________________________________________________________\n",
            "conv2d_15 (Conv2D)           (None, 32, 32, 32)        9248      \n",
            "_________________________________________________________________\n",
            "batch_normalization_14 (Batc (None, 32, 32, 32)        128       \n",
            "_________________________________________________________________\n",
            "activation_14 (Activation)   (None, 32, 32, 32)        0         \n",
            "=================================================================\n",
            "Total params: 10,400\n",
            "Trainable params: 10,272\n",
            "Non-trainable params: 128\n",
            "_________________________________________________________________\n"
          ],
          "name": "stdout"
        }
      ]
    },
    {
      "cell_type": "code",
      "metadata": {
        "id": "BGjz_yyKUVSu",
        "colab_type": "code",
        "colab": {}
      },
      "source": [
        ""
      ],
      "execution_count": 0,
      "outputs": []
    }
  ]
}