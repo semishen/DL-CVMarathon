{
  "nbformat": 4,
  "nbformat_minor": 0,
  "metadata": {
    "colab": {
      "name": "Day12_Strides and Padding_HW.ipynb",
      "provenance": [],
      "include_colab_link": true
    },
    "kernelspec": {
      "display_name": "Python 3",
      "language": "python",
      "name": "python3"
    },
    "language_info": {
      "codemirror_mode": {
        "name": "ipython",
        "version": 3
      },
      "file_extension": ".py",
      "mimetype": "text/x-python",
      "name": "python",
      "nbconvert_exporter": "python",
      "pygments_lexer": "ipython3",
      "version": "3.6.7"
    }
  },
  "cells": [
    {
      "cell_type": "markdown",
      "metadata": {
        "id": "view-in-github",
        "colab_type": "text"
      },
      "source": [
        "<a href=\"https://colab.research.google.com/github/semishen/DL-CVMarathon/blob/master/Day12_Strides_and_Padding_HW.ipynb\" target=\"_parent\"><img src=\"https://colab.research.google.com/assets/colab-badge.svg\" alt=\"Open In Colab\"/></a>"
      ]
    },
    {
      "cell_type": "markdown",
      "metadata": {
        "colab_type": "text",
        "id": "0BBfdBwkyTiQ"
      },
      "source": [
        "## 『作業內容』\n",
        "####   依照指示，透過調整Padding、Strides參數控制輸出Feature map大小\n"
      ]
    },
    {
      "cell_type": "markdown",
      "metadata": {
        "colab_type": "text",
        "id": "7CtbcEb4yTiT"
      },
      "source": [
        "## 『目標』\n",
        "####   了解輸出feature map尺寸變化原理"
      ]
    },
    {
      "cell_type": "code",
      "metadata": {
        "colab_type": "code",
        "id": "2fhi3otQyTiU",
        "colab": {
          "base_uri": "https://localhost:8080/",
          "height": 35
        },
        "outputId": "8d1e291a-2709-4587-e308-cd15ef4ceeaf"
      },
      "source": [
        "from keras.models import Sequential\n",
        "from keras.layers import Convolution2D\n",
        "from keras.layers import Input, Dense\n",
        "from keras.models import Model"
      ],
      "execution_count": 1,
      "outputs": [
        {
          "output_type": "stream",
          "text": [
            "Using TensorFlow backend.\n"
          ],
          "name": "stderr"
        }
      ]
    },
    {
      "cell_type": "code",
      "metadata": {
        "id": "7Qpufd3LDaIt",
        "colab_type": "code",
        "colab": {
          "base_uri": "https://localhost:8080/",
          "height": 881
        },
        "outputId": "3b62d506-569c-429f-baf4-bce4ac159f69"
      },
      "source": [
        "#kernel size=(6,6)\n",
        "#kernel數量：32\n",
        "#Same padding、strides=(1,1)\n",
        "\n",
        "classifier=Sequential()\n",
        "inputs = Input(shape=(13,13,1))\n",
        "\n",
        "x=Convolution2D(kernel_size=(6,6), padding='same', filters=32)(inputs)\n",
        "model = Model(inputs=inputs, outputs=x)\n",
        "model.summary()\n",
        "\n",
        "# Same padding、strides=(2,2)\n",
        "classifier=Sequential()\n",
        "inputs = Input(shape=(13,13,1))\n",
        "\n",
        "x=Convolution2D(kernel_size=(6,6), padding='same',strides=(2,2), filters=32)(inputs)\n",
        "model = Model(inputs=inputs, outputs=x)\n",
        "model.summary()\n",
        "\n",
        "# Valid padding、strides=(1,1)\n",
        "classifier=Sequential()\n",
        "inputs = Input(shape=(13,13,1))\n",
        "\n",
        "x=Convolution2D(kernel_size=(6,6), filters=32)(inputs)\n",
        "model = Model(inputs=inputs, outputs=x)\n",
        "model.summary()\n",
        "\n",
        "# Valid padding、strides=(2,2)\n",
        "classifier=Sequential()\n",
        "inputs = Input(shape=(13,13,1))\n",
        "\n",
        "x=Convolution2D(kernel_size=(6,6), strides=(2,2), filters=32)(inputs)\n",
        "model = Model(inputs=inputs, outputs=x)\n",
        "model.summary()"
      ],
      "execution_count": 4,
      "outputs": [
        {
          "output_type": "stream",
          "text": [
            "Model: \"model_4\"\n",
            "_________________________________________________________________\n",
            "Layer (type)                 Output Shape              Param #   \n",
            "=================================================================\n",
            "input_4 (InputLayer)         (None, 13, 13, 1)         0         \n",
            "_________________________________________________________________\n",
            "conv2d_4 (Conv2D)            (None, 13, 13, 32)        1184      \n",
            "=================================================================\n",
            "Total params: 1,184\n",
            "Trainable params: 1,184\n",
            "Non-trainable params: 0\n",
            "_________________________________________________________________\n",
            "Model: \"model_5\"\n",
            "_________________________________________________________________\n",
            "Layer (type)                 Output Shape              Param #   \n",
            "=================================================================\n",
            "input_5 (InputLayer)         (None, 13, 13, 1)         0         \n",
            "_________________________________________________________________\n",
            "conv2d_5 (Conv2D)            (None, 7, 7, 32)          1184      \n",
            "=================================================================\n",
            "Total params: 1,184\n",
            "Trainable params: 1,184\n",
            "Non-trainable params: 0\n",
            "_________________________________________________________________\n",
            "Model: \"model_6\"\n",
            "_________________________________________________________________\n",
            "Layer (type)                 Output Shape              Param #   \n",
            "=================================================================\n",
            "input_6 (InputLayer)         (None, 13, 13, 1)         0         \n",
            "_________________________________________________________________\n",
            "conv2d_6 (Conv2D)            (None, 8, 8, 32)          1184      \n",
            "=================================================================\n",
            "Total params: 1,184\n",
            "Trainable params: 1,184\n",
            "Non-trainable params: 0\n",
            "_________________________________________________________________\n",
            "Model: \"model_7\"\n",
            "_________________________________________________________________\n",
            "Layer (type)                 Output Shape              Param #   \n",
            "=================================================================\n",
            "input_7 (InputLayer)         (None, 13, 13, 1)         0         \n",
            "_________________________________________________________________\n",
            "conv2d_7 (Conv2D)            (None, 4, 4, 32)          1184      \n",
            "=================================================================\n",
            "Total params: 1,184\n",
            "Trainable params: 1,184\n",
            "Non-trainable params: 0\n",
            "_________________________________________________________________\n"
          ],
          "name": "stdout"
        }
      ]
    }
  ]
}