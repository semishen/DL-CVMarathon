{
  "nbformat": 4,
  "nbformat_minor": 0,
  "metadata": {
    "colab": {
      "name": "Day013_池化、全連接層_HW.ipynb",
      "provenance": [],
      "include_colab_link": true
    },
    "kernelspec": {
      "display_name": "Python 3",
      "language": "python",
      "name": "python3"
    },
    "language_info": {
      "codemirror_mode": {
        "name": "ipython",
        "version": 3
      },
      "file_extension": ".py",
      "mimetype": "text/x-python",
      "name": "python",
      "nbconvert_exporter": "python",
      "pygments_lexer": "ipython3",
      "version": "3.6.7"
    }
  },
  "cells": [
    {
      "cell_type": "markdown",
      "metadata": {
        "id": "view-in-github",
        "colab_type": "text"
      },
      "source": [
        "<a href=\"https://colab.research.google.com/github/semishen/DL-CVMarathon/blob/master/Day013_%E6%B1%A0%E5%8C%96%E3%80%81%E5%85%A8%E9%80%A3%E6%8E%A5%E5%B1%A4_HW.ipynb\" target=\"_parent\"><img src=\"https://colab.research.google.com/assets/colab-badge.svg\" alt=\"Open In Colab\"/></a>"
      ]
    },
    {
      "cell_type": "markdown",
      "metadata": {
        "id": "z29CAe8_L3ve",
        "colab_type": "text"
      },
      "source": [
        "## 『作業內容』\n",
        "####   依照指示，搭建Maxpooling層與全連接層"
      ]
    },
    {
      "cell_type": "markdown",
      "metadata": {
        "id": "cj4yl1NrL3vf",
        "colab_type": "text"
      },
      "source": [
        "## 『目標』\n",
        "####   了解Maxpooling的原理與CNN、FC層連結的方式"
      ]
    },
    {
      "cell_type": "code",
      "metadata": {
        "id": "Zli1_ffKL3vf",
        "colab_type": "code",
        "colab": {}
      },
      "source": [
        "from keras.models import Sequential  #用來啟動 NN\n",
        "from keras.layers import Conv2D  # Convolution Operation\n",
        "from keras.layers import MaxPooling2D, GlobalAveragePooling2D # Pooling\n",
        "from keras.layers import Flatten\n",
        "from keras.layers import Dense # Fully Connected Networks\n"
      ],
      "execution_count": 0,
      "outputs": []
    },
    {
      "cell_type": "code",
      "metadata": {
        "colab_type": "code",
        "id": "43xxX0yJxiDr",
        "colab": {}
      },
      "source": [
        "input_shape = (32, 32, 3)\n",
        "\n",
        "model = Sequential()\n",
        "\n",
        "model.add(Conv2D(32, kernel_size=(3, 3), padding='same',input_shape=input_shape))\n",
        "### Q: pooling_size=2,2 strides=2,2 輸出feature map 大小為多少？ \n",
        "### A: feature map = (16, 16)\n",
        "model.add(MaxPooling2D(pool_size=(2,2),strides=(2,2)))  \n",
        "\n",
        "model.add(Conv2D(64, kernel_size=(3, 3), padding='same'))\n",
        "### Q: pooling_size=2,2 strides=2,2 輸出feature map 大小為多少？ \n",
        "### A: feature map = (8, 8)\n",
        "model.add(MaxPooling2D(pool_size=(2,2),strides=(2,2)))\n",
        "\n",
        "model.add(Conv2D(128, kernel_size=(3, 3), padding='same'))\n",
        "### Q: pooling_size=1,1 strides=1,1 輸出feature map 大小為多少？\n",
        "### A: feature map = (8, 8)\n",
        "model.add(MaxPooling2D(pool_size=(1,1)))\n",
        "\n",
        "model.add(Conv2D(10, kernel_size=(3, 3), padding='same'))\n",
        "# model.add(Flatten()) \n",
        "### Q: Flatten完尺寸如何變化？\n",
        "### A: shape(None, 640)\n",
        "\n",
        "model.add(GlobalAveragePooling2D())\n",
        "### Q: 關掉Flatten，使用GlobalAveragePooling2D，完尺寸如何變化？ \n",
        "### A: shape = (None, 10)\n",
        "\n",
        "# 全連接層使用28個units\n",
        "model.add(Dense(28)) "
      ],
      "execution_count": 0,
      "outputs": []
    },
    {
      "cell_type": "code",
      "metadata": {
        "colab_type": "code",
        "id": "nFgU3mB-xiDt",
        "outputId": "0f9a3d11-5a8a-41dd-ff2c-0d2933f0d6ec",
        "colab": {
          "base_uri": "https://localhost:8080/",
          "height": 485
        }
      },
      "source": [
        "model.summary() # flatten"
      ],
      "execution_count": 7,
      "outputs": [
        {
          "output_type": "stream",
          "text": [
            "Model: \"sequential_4\"\n",
            "_________________________________________________________________\n",
            "Layer (type)                 Output Shape              Param #   \n",
            "=================================================================\n",
            "conv2d_13 (Conv2D)           (None, 32, 32, 32)        896       \n",
            "_________________________________________________________________\n",
            "max_pooling2d_10 (MaxPooling (None, 16, 16, 32)        0         \n",
            "_________________________________________________________________\n",
            "conv2d_14 (Conv2D)           (None, 16, 16, 64)        18496     \n",
            "_________________________________________________________________\n",
            "max_pooling2d_11 (MaxPooling (None, 8, 8, 64)          0         \n",
            "_________________________________________________________________\n",
            "conv2d_15 (Conv2D)           (None, 8, 8, 128)         73856     \n",
            "_________________________________________________________________\n",
            "max_pooling2d_12 (MaxPooling (None, 8, 8, 128)         0         \n",
            "_________________________________________________________________\n",
            "conv2d_16 (Conv2D)           (None, 8, 8, 10)          11530     \n",
            "_________________________________________________________________\n",
            "flatten_4 (Flatten)          (None, 640)               0         \n",
            "_________________________________________________________________\n",
            "dense_3 (Dense)              (None, 28)                17948     \n",
            "=================================================================\n",
            "Total params: 122,726\n",
            "Trainable params: 122,726\n",
            "Non-trainable params: 0\n",
            "_________________________________________________________________\n"
          ],
          "name": "stdout"
        }
      ]
    },
    {
      "cell_type": "code",
      "metadata": {
        "id": "Ngkj8Wf6L3vo",
        "colab_type": "code",
        "colab": {
          "base_uri": "https://localhost:8080/",
          "height": 485
        },
        "outputId": "f78fd0bb-ffab-441b-eb57-785cb12b83d1"
      },
      "source": [
        "model.summary() # GlobalAveragePooling2D"
      ],
      "execution_count": 11,
      "outputs": [
        {
          "output_type": "stream",
          "text": [
            "Model: \"sequential_6\"\n",
            "_________________________________________________________________\n",
            "Layer (type)                 Output Shape              Param #   \n",
            "=================================================================\n",
            "conv2d_21 (Conv2D)           (None, 32, 32, 32)        896       \n",
            "_________________________________________________________________\n",
            "max_pooling2d_16 (MaxPooling (None, 16, 16, 32)        0         \n",
            "_________________________________________________________________\n",
            "conv2d_22 (Conv2D)           (None, 16, 16, 64)        18496     \n",
            "_________________________________________________________________\n",
            "max_pooling2d_17 (MaxPooling (None, 8, 8, 64)          0         \n",
            "_________________________________________________________________\n",
            "conv2d_23 (Conv2D)           (None, 8, 8, 128)         73856     \n",
            "_________________________________________________________________\n",
            "max_pooling2d_18 (MaxPooling (None, 8, 8, 128)         0         \n",
            "_________________________________________________________________\n",
            "conv2d_24 (Conv2D)           (None, 8, 8, 10)          11530     \n",
            "_________________________________________________________________\n",
            "global_average_pooling2d_1 ( (None, 10)                0         \n",
            "_________________________________________________________________\n",
            "dense_4 (Dense)              (None, 28)                308       \n",
            "=================================================================\n",
            "Total params: 105,086\n",
            "Trainable params: 105,086\n",
            "Non-trainable params: 0\n",
            "_________________________________________________________________\n"
          ],
          "name": "stdout"
        }
      ]
    }
  ]
}