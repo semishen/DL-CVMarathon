{
  "nbformat": 4,
  "nbformat_minor": 0,
  "metadata": {
    "accelerator": "GPU",
    "colab": {
      "name": "Day022_Captcha_HW.ipynb",
      "provenance": [],
      "collapsed_sections": [],
      "include_colab_link": true
    },
    "kernelspec": {
      "display_name": "Python 3",
      "language": "python",
      "name": "python3"
    },
    "language_info": {
      "codemirror_mode": {
        "name": "ipython",
        "version": 3
      },
      "file_extension": ".py",
      "mimetype": "text/x-python",
      "name": "python",
      "nbconvert_exporter": "python",
      "pygments_lexer": "ipython3",
      "version": "3.6.7"
    }
  },
  "cells": [
    {
      "cell_type": "markdown",
      "metadata": {
        "id": "view-in-github",
        "colab_type": "text"
      },
      "source": [
        "<a href=\"https://colab.research.google.com/github/semishen/DL-CVMarathon/blob/master/Day022_Captcha_HW.ipynb\" target=\"_parent\"><img src=\"https://colab.research.google.com/assets/colab-badge.svg\" alt=\"Open In Colab\"/></a>"
      ]
    },
    {
      "cell_type": "markdown",
      "metadata": {
        "id": "bNSREwYCrR9n",
        "colab_type": "text"
      },
      "source": [
        "## 『本次練習內容』\n",
        "#### 搭建一個能識別驗證碼的模型(CNN+CTC)"
      ]
    },
    {
      "cell_type": "markdown",
      "metadata": {
        "id": "gqrQeze3rR9n",
        "colab_type": "text"
      },
      "source": [
        "## 『本次練習目的』\n",
        "  #### 了解如何結合CNN與CTC Loss\n",
        "  #### 有時間學員也可以延伸閱讀CNN+RNN+CTC模型\n",
        "  #### 沒有GPU的學員可以使用Colab，可以參考問答區的文章"
      ]
    },
    {
      "cell_type": "code",
      "metadata": {
        "id": "9e2efGzirR9o",
        "colab_type": "code",
        "colab": {}
      },
      "source": [
        "## 使用Colab可先run這裡的code\n",
        "#假如要連結自己的雲端硬碟再開啟\n",
        "##from google.colab import drive\n",
        "##drive.mount('/content/gdrive')\n",
        "#檢查GPU\n",
        "##!nvidia-smi\n",
        "##安裝產生驗證碼的套件"
      ],
      "execution_count": null,
      "outputs": []
    },
    {
      "cell_type": "markdown",
      "metadata": {
        "id": "YLFpBthFrR9r",
        "colab_type": "text"
      },
      "source": [
        "## 記得先 pip install captcha"
      ]
    },
    {
      "cell_type": "code",
      "metadata": {
        "colab_type": "code",
        "id": "AxGi02yvx1Go",
        "colab": {
          "base_uri": "https://localhost:8080/",
          "height": 145
        },
        "outputId": "fa09ab7c-7f71-4b1c-9ec2-9e52f500feac"
      },
      "source": [
        "!pip install captcha"
      ],
      "execution_count": 1,
      "outputs": [
        {
          "output_type": "stream",
          "text": [
            "Collecting captcha\n",
            "\u001b[?25l  Downloading https://files.pythonhosted.org/packages/90/fe/d4ddf1e6576073b5eaea76e9b2afa022c626212a30c871968480be3ccb7b/captcha-0.3-py3-none-any.whl (101kB)\n",
            "\r\u001b[K     |███▎                            | 10kB 23.6MB/s eta 0:00:01\r\u001b[K     |██████▌                         | 20kB 3.3MB/s eta 0:00:01\r\u001b[K     |█████████▊                      | 30kB 4.3MB/s eta 0:00:01\r\u001b[K     |█████████████                   | 40kB 4.5MB/s eta 0:00:01\r\u001b[K     |████████████████▏               | 51kB 3.8MB/s eta 0:00:01\r\u001b[K     |███████████████████▍            | 61kB 4.2MB/s eta 0:00:01\r\u001b[K     |██████████████████████▋         | 71kB 4.5MB/s eta 0:00:01\r\u001b[K     |█████████████████████████▉      | 81kB 4.8MB/s eta 0:00:01\r\u001b[K     |█████████████████████████████   | 92kB 5.2MB/s eta 0:00:01\r\u001b[K     |████████████████████████████████| 102kB 3.8MB/s \n",
            "\u001b[?25hRequirement already satisfied: Pillow in /usr/local/lib/python3.6/dist-packages (from captcha) (7.0.0)\n",
            "Installing collected packages: captcha\n",
            "Successfully installed captcha-0.3\n"
          ],
          "name": "stdout"
        }
      ]
    },
    {
      "cell_type": "markdown",
      "metadata": {
        "id": "wR024_u6rR9u",
        "colab_type": "text"
      },
      "source": [
        "## 產生驗證碼"
      ]
    },
    {
      "cell_type": "code",
      "metadata": {
        "colab_type": "code",
        "id": "h2VVCBKwk6Zv",
        "colab": {
          "base_uri": "https://localhost:8080/",
          "height": 256
        },
        "outputId": "21c6fcf5-2dea-45cf-f19f-08c217401d63"
      },
      "source": [
        "from captcha.image import ImageCaptcha\n",
        "import matplotlib.pyplot as plt\n",
        "import numpy as np\n",
        "import random\n",
        "\n",
        "%matplotlib inline\n",
        "%config InlineBackend.figure_format = 'retina'\n",
        "\n",
        "import string\n",
        "##驗證碼包含0-10數字以及26個英文字母\n",
        "characters = string.digits + string.ascii_uppercase\n",
        "print(characters)\n",
        "\n",
        "##設定產生圖片尺寸，以及總類別，n_class之所以要加一是為了留一個位置給Blank\n",
        "width, height, n_len, n_class = 170, 80, 4, len(characters)+1\n",
        "\n",
        "##設定產生驗證碼的generator\n",
        "generator = ImageCaptcha(width=width, height=height)\n",
        "\n",
        "##我們先練習固定長度4個字的驗證碼\n",
        "random_str = ''.join([random.choice(characters) for j in range(4)])\n",
        "img = generator.generate_image(random_str)\n",
        "\n",
        "plt.imshow(img)\n",
        "plt.title(random_str)"
      ],
      "execution_count": 2,
      "outputs": [
        {
          "output_type": "stream",
          "text": [
            "0123456789ABCDEFGHIJKLMNOPQRSTUVWXYZ\n"
          ],
          "name": "stdout"
        },
        {
          "output_type": "execute_result",
          "data": {
            "text/plain": [
              "Text(0.5, 1.0, 'IJHT')"
            ]
          },
          "metadata": {
            "tags": []
          },
          "execution_count": 2
        },
        {
          "output_type": "display_data",
          "data": {
            "image/png": "[encoded data removed]",
            "text/plain": [
              "<Figure size 432x288 with 1 Axes>"
            ]
          },
          "metadata": {
            "tags": [],
            "image/png": {
              "width": 369,
              "height": 203
            },
            "needs_background": "light"
          }
        }
      ]
    },
    {
      "cell_type": "markdown",
      "metadata": {
        "id": "DAKtMAKmrR9x",
        "colab_type": "text"
      },
      "source": [
        "## 自己搭建一個CNN模型使得output feature Map 高度被壓縮成小於4，8<寬度<20\n",
        "#### 解答的output feature Map 為 (batch_size,1,13,32)"
      ]
    },
    {
      "cell_type": "code",
      "metadata": {
        "id": "QGVu4ksnsec7",
        "colab_type": "code",
        "colab": {
          "base_uri": "https://localhost:8080/",
          "height": 35
        },
        "outputId": "529fd240-99e6-4542-d7d9-154ea50f3bd8"
      },
      "source": [
        "from keras.models import *\n",
        "from keras.layers import *"
      ],
      "execution_count": 3,
      "outputs": [
        {
          "output_type": "stream",
          "text": [
            "Using TensorFlow backend.\n"
          ],
          "name": "stderr"
        }
      ]
    },
    {
      "cell_type": "code",
      "metadata": {
        "id": "8vyhXXSFrR92",
        "colab_type": "code",
        "colab": {}
      },
      "source": [
        "from keras import backend as K\n",
        "import keras\n",
        "\n",
        "##CTC Loss需要四個資訊，分別是\n",
        "## Label\n",
        "## 預測\n",
        "## CNN OUTPUT寬度\n",
        "## 預測影像所包含文字長度\n",
        "def ctc_lambda_func(args):\n",
        "    y_pred, labels, input_length, label_length = args\n",
        "    return K.ctc_batch_cost(labels, y_pred, input_length, label_length)"
      ],
      "execution_count": 4,
      "outputs": []
    },
    {
      "cell_type": "code",
      "metadata": {
        "colab_type": "code",
        "id": "KX3Jq1sClGGn",
        "colab": {
          "base_uri": "https://localhost:8080/",
          "height": 35
        },
        "outputId": "6e4541fa-4182-468d-f00d-05a24207b318"
      },
      "source": [
        "rnn_size = 128\n",
        "\n",
        "input_tensor = Input((height,width, 3)) # (80, 170, 3)\n",
        "# windows = 6*2+1\n",
        "# window_width = 13\n",
        "x = input_tensor\n",
        "\n",
        "# conv layers\n",
        "x = Conv2D(8,3,activation=\"relu\")(x) # (78, 168, 8)\n",
        "x = BatchNormalization()(x)\n",
        "x = Conv2D(8,3,activation=\"relu\")(x) # (76, 166, 8)\n",
        "x = BatchNormalization()(x)\n",
        "x = MaxPool2D()(x) # (38, 83, 8)\n",
        "\n",
        "x = Conv2D(16,3,activation=\"relu\")(x) # (36, 81, 16)\n",
        "x = BatchNormalization()(x)\n",
        "x = Conv2D(16,3,activation=\"relu\")(x) # (34, 79, 16)\n",
        "x = BatchNormalization()(x)\n",
        "x = MaxPool2D()(x) # (17, 39, 16)\n",
        "\n",
        "x = Conv2D(32,3,activation=\"relu\")(x) # (15, 37, 32)\n",
        "x = BatchNormalization()(x)\n",
        "x = Conv2D(32,3,activation=\"relu\")(x) # (13, 35, 32)\n",
        "x = BatchNormalization()(x)\n",
        "x = MaxPool2D()(x) # (6, 17, 32)\n",
        "\n",
        "x = Conv2D(32,3,activation=\"relu\")(x) # (4, 15, 32)\n",
        "x = BatchNormalization()(x)\n",
        "x = Conv2D(32,3,activation=\"relu\")(x) # (2, 13, 32)\n",
        "x = BatchNormalization()(x)\n",
        "x = Conv2D(32,(2,1),activation=\"relu\")(x) # (1, 13, 32)\n",
        "x = BatchNormalization()(x)\n",
        "\n",
        "##記錄輸出CNN尺寸，loss部分需要這個資訊\n",
        "##conv_shape=(Batch_size,輸出高度,輸出寬度,輸出深度)\n",
        "conv_shape = x.get_shape()\n",
        "print('conv_shape: ', conv_shape)\n",
        "\n",
        "##從(Batch_size,輸出高度,輸出寬度,輸出深度)變成(Batch_size,輸出寬度,輸出深度*輸出高度)，以符合ctc loss需求\n",
        "x = Reshape(target_shape=(int(conv_shape[2]), int(conv_shape[1]*conv_shape[3])))(x)\n",
        "x = Dense(units=128, activation='relu')(x)\n",
        "x = Dropout(0.25)(x)\n",
        "x = Dense(n_class, activation='softmax')(x)\n",
        "\n",
        "\n",
        "##包裝用來預測的model\n",
        "base_model = Model(inputs=input_tensor, outputs=x)\n",
        "\n",
        "\n",
        "##設定要給CTC Loss的資訊\n",
        "labels = Input(name='the_labels', shape=[n_len], dtype='float32')\n",
        "input_length = Input(name='input_length', shape=[1], dtype='int64')\n",
        "label_length = Input(name='label_length', shape=[1], dtype='int64')\n",
        "loss_out = Lambda(ctc_lambda_func, output_shape=(1,), \n",
        "                  name='ctc')([x, labels, input_length, label_length])\n",
        "\n",
        "##這裡的model是用來計算loss\n",
        "model = Model(inputs=[input_tensor, labels, input_length, label_length], outputs=[loss_out])\n",
        "\n",
        "##之所以要lambda y_true, y_pred: y_pred是因為我們的loss已經包在網路裡，會output:y_true, y_pred，而我們只需要y_pred\n",
        "model.compile(loss={'ctc': lambda y_true, y_pred: y_pred}, optimizer='SGD')"
      ],
      "execution_count": 7,
      "outputs": [
        {
          "output_type": "stream",
          "text": [
            "conv_shape:  (None, 1, 13, 32)\n"
          ],
          "name": "stdout"
        }
      ]
    },
    {
      "cell_type": "code",
      "metadata": {
        "colab_type": "code",
        "id": "m1YRv0TVN_FL",
        "colab": {
          "base_uri": "https://localhost:8080/",
          "height": 1000
        },
        "outputId": "f5104dea-05d3-49fb-9a2c-c11db09be821"
      },
      "source": [
        "model.summary()"
      ],
      "execution_count": 8,
      "outputs": [
        {
          "output_type": "stream",
          "text": [
            "Model: \"model_4\"\n",
            "__________________________________________________________________________________________________\n",
            "Layer (type)                    Output Shape         Param #     Connected to                     \n",
            "==================================================================================================\n",
            "input_2 (InputLayer)            (None, 80, 170, 3)   0                                            \n",
            "__________________________________________________________________________________________________\n",
            "conv2d_8 (Conv2D)               (None, 78, 168, 8)   224         input_2[0][0]                    \n",
            "__________________________________________________________________________________________________\n",
            "batch_normalization_8 (BatchNor (None, 78, 168, 8)   32          conv2d_8[0][0]                   \n",
            "__________________________________________________________________________________________________\n",
            "conv2d_9 (Conv2D)               (None, 76, 166, 8)   584         batch_normalization_8[0][0]      \n",
            "__________________________________________________________________________________________________\n",
            "batch_normalization_9 (BatchNor (None, 76, 166, 8)   32          conv2d_9[0][0]                   \n",
            "__________________________________________________________________________________________________\n",
            "max_pooling2d_4 (MaxPooling2D)  (None, 38, 83, 8)    0           batch_normalization_9[0][0]      \n",
            "__________________________________________________________________________________________________\n",
            "conv2d_10 (Conv2D)              (None, 36, 81, 16)   1168        max_pooling2d_4[0][0]            \n",
            "__________________________________________________________________________________________________\n",
            "batch_normalization_10 (BatchNo (None, 36, 81, 16)   64          conv2d_10[0][0]                  \n",
            "__________________________________________________________________________________________________\n",
            "conv2d_11 (Conv2D)              (None, 34, 79, 16)   2320        batch_normalization_10[0][0]     \n",
            "__________________________________________________________________________________________________\n",
            "batch_normalization_11 (BatchNo (None, 34, 79, 16)   64          conv2d_11[0][0]                  \n",
            "__________________________________________________________________________________________________\n",
            "max_pooling2d_5 (MaxPooling2D)  (None, 17, 39, 16)   0           batch_normalization_11[0][0]     \n",
            "__________________________________________________________________________________________________\n",
            "conv2d_12 (Conv2D)              (None, 15, 37, 32)   4640        max_pooling2d_5[0][0]            \n",
            "__________________________________________________________________________________________________\n",
            "batch_normalization_12 (BatchNo (None, 15, 37, 32)   128         conv2d_12[0][0]                  \n",
            "__________________________________________________________________________________________________\n",
            "conv2d_13 (Conv2D)              (None, 13, 35, 32)   9248        batch_normalization_12[0][0]     \n",
            "__________________________________________________________________________________________________\n",
            "batch_normalization_13 (BatchNo (None, 13, 35, 32)   128         conv2d_13[0][0]                  \n",
            "__________________________________________________________________________________________________\n",
            "max_pooling2d_6 (MaxPooling2D)  (None, 6, 17, 32)    0           batch_normalization_13[0][0]     \n",
            "__________________________________________________________________________________________________\n",
            "conv2d_14 (Conv2D)              (None, 4, 15, 32)    9248        max_pooling2d_6[0][0]            \n",
            "__________________________________________________________________________________________________\n",
            "batch_normalization_14 (BatchNo (None, 4, 15, 32)    128         conv2d_14[0][0]                  \n",
            "__________________________________________________________________________________________________\n",
            "conv2d_15 (Conv2D)              (None, 2, 13, 32)    9248        batch_normalization_14[0][0]     \n",
            "__________________________________________________________________________________________________\n",
            "batch_normalization_15 (BatchNo (None, 2, 13, 32)    128         conv2d_15[0][0]                  \n",
            "__________________________________________________________________________________________________\n",
            "conv2d_16 (Conv2D)              (None, 1, 13, 32)    2080        batch_normalization_15[0][0]     \n",
            "__________________________________________________________________________________________________\n",
            "batch_normalization_16 (BatchNo (None, 1, 13, 32)    128         conv2d_16[0][0]                  \n",
            "__________________________________________________________________________________________________\n",
            "reshape_2 (Reshape)             (None, 13, 32)       0           batch_normalization_16[0][0]     \n",
            "__________________________________________________________________________________________________\n",
            "dense_3 (Dense)                 (None, 13, 128)      4224        reshape_2[0][0]                  \n",
            "__________________________________________________________________________________________________\n",
            "dropout_2 (Dropout)             (None, 13, 128)      0           dense_3[0][0]                    \n",
            "__________________________________________________________________________________________________\n",
            "dense_4 (Dense)                 (None, 13, 37)       4773        dropout_2[0][0]                  \n",
            "__________________________________________________________________________________________________\n",
            "the_labels (InputLayer)         (None, 4)            0                                            \n",
            "__________________________________________________________________________________________________\n",
            "input_length (InputLayer)       (None, 1)            0                                            \n",
            "__________________________________________________________________________________________________\n",
            "label_length (InputLayer)       (None, 1)            0                                            \n",
            "__________________________________________________________________________________________________\n",
            "ctc (Lambda)                    (None, 1)            0           dense_4[0][0]                    \n",
            "                                                                 the_labels[0][0]                 \n",
            "                                                                 input_length[0][0]               \n",
            "                                                                 label_length[0][0]               \n",
            "==================================================================================================\n",
            "Total params: 48,589\n",
            "Trainable params: 48,173\n",
            "Non-trainable params: 416\n",
            "__________________________________________________________________________________________________\n"
          ],
          "name": "stdout"
        }
      ]
    },
    {
      "cell_type": "code",
      "metadata": {
        "colab_type": "code",
        "id": "5Jzb1YnqlJug",
        "colab": {}
      },
      "source": [
        "##設計generator產生training data\n",
        "## 產生包含要給loss的資訊\n",
        "## X=輸入影像\n",
        "## np.ones(batch_size)*int(conv_shape[2])=CNN輸出feature Map寬度\n",
        "## np.ones(batch_size)*n_len=字串長度(可浮動)\n",
        "\n",
        "def gen(batch_size=128):\n",
        "    X = np.zeros((batch_size,height, width, 3), dtype=np.uint8)\n",
        "    y = np.zeros((batch_size, n_len), dtype=np.uint8)\n",
        "    while True:\n",
        "        generator = ImageCaptcha(width=width, height=height)\n",
        "        for i in range(batch_size):\n",
        "            random_str = ''.join([random.choice(characters) for j in range(4)])\n",
        "            X[i] = np.array(generator.generate_image(random_str))\n",
        "            y[i] = [characters.find(x) for x in random_str]\n",
        "        yield [X, y,np.ones(batch_size)*int(conv_shape[2]), np.ones(batch_size)*n_len], np.ones(batch_size)"
      ],
      "execution_count": 9,
      "outputs": []
    },
    {
      "cell_type": "code",
      "metadata": {
        "colab_type": "code",
        "id": "dfcFs6InVQaT",
        "colab": {
          "base_uri": "https://localhost:8080/",
          "height": 262
        },
        "outputId": "035bb2e8-71d6-4ee9-a59f-73a718f38b16"
      },
      "source": [
        "next_ge=gen(batch_size=1)\n",
        "test_ge=next(next_ge)\n",
        "plt.imshow(test_ge[0][0][0])\n",
        "print('Label: ',test_ge[0][1])\n",
        "print('CNN輸出寬度: ',test_ge[0][2])\n",
        "print('字串長度(可浮動): ',test_ge[0][3])"
      ],
      "execution_count": 10,
      "outputs": [
        {
          "output_type": "stream",
          "text": [
            "Label:  [[ 3 26 32  1]]\n",
            "CNN輸出寬度:  [13.]\n",
            "字串長度(可浮動):  [4.]\n"
          ],
          "name": "stdout"
        },
        {
          "output_type": "display_data",
          "data": {
            "image/png": "[encoded data removed]",
            "text/plain": [
              "<Figure size 432x288 with 1 Axes>"
            ]
          },
          "metadata": {
            "tags": [],
            "image/png": {
              "width": 369,
              "height": 191
            },
            "needs_background": "light"
          }
        }
      ]
    },
    {
      "cell_type": "markdown",
      "metadata": {
        "id": "LB8jLdj8rR98",
        "colab_type": "text"
      },
      "source": [
        "## 開始訓練"
      ]
    },
    {
      "cell_type": "code",
      "metadata": {
        "colab_type": "code",
        "id": "fqdKnqollUKj",
        "colab": {
          "base_uri": "https://localhost:8080/",
          "height": 1000
        },
        "outputId": "a2c19bf6-4999-4841-caec-f290d4013dbb"
      },
      "source": [
        "model.fit_generator(gen(64), steps_per_epoch=300, epochs=60)"
      ],
      "execution_count": 11,
      "outputs": [
        {
          "output_type": "stream",
          "text": [
            "Epoch 1/60\n",
            "300/300 [==============================] - 83s 278ms/step - loss: 15.5643\n",
            "Epoch 2/60\n",
            "300/300 [==============================] - 78s 259ms/step - loss: 10.2896\n",
            "Epoch 3/60\n",
            "300/300 [==============================] - 78s 262ms/step - loss: 6.2670\n",
            "Epoch 4/60\n",
            "300/300 [==============================] - 78s 260ms/step - loss: 4.5368\n",
            "Epoch 5/60\n",
            "300/300 [==============================] - 78s 259ms/step - loss: 3.6716\n",
            "Epoch 6/60\n",
            "300/300 [==============================] - 77s 258ms/step - loss: 3.2441\n",
            "Epoch 7/60\n",
            "300/300 [==============================] - 78s 259ms/step - loss: 2.9516\n",
            "Epoch 8/60\n",
            "300/300 [==============================] - 77s 257ms/step - loss: 2.7573\n",
            "Epoch 9/60\n",
            "300/300 [==============================] - 78s 259ms/step - loss: 2.5809\n",
            "Epoch 10/60\n",
            "300/300 [==============================] - 77s 258ms/step - loss: 2.4790\n",
            "Epoch 11/60\n",
            "300/300 [==============================] - 77s 257ms/step - loss: 2.4098\n",
            "Epoch 12/60\n",
            "300/300 [==============================] - 77s 258ms/step - loss: 2.3094\n",
            "Epoch 13/60\n",
            "300/300 [==============================] - 77s 258ms/step - loss: 2.2791\n",
            "Epoch 14/60\n",
            "300/300 [==============================] - 78s 259ms/step - loss: 2.1959\n",
            "Epoch 15/60\n",
            "300/300 [==============================] - 78s 259ms/step - loss: 2.1672\n",
            "Epoch 16/60\n",
            "300/300 [==============================] - 78s 259ms/step - loss: 2.1001\n",
            "Epoch 17/60\n",
            "300/300 [==============================] - 78s 260ms/step - loss: 2.0280\n",
            "Epoch 18/60\n",
            "300/300 [==============================] - 77s 258ms/step - loss: 2.0067\n",
            "Epoch 19/60\n",
            "300/300 [==============================] - 77s 258ms/step - loss: 1.9891\n",
            "Epoch 20/60\n",
            "300/300 [==============================] - 77s 256ms/step - loss: 1.9104\n",
            "Epoch 21/60\n",
            "300/300 [==============================] - 77s 258ms/step - loss: 1.8835\n",
            "Epoch 22/60\n",
            "300/300 [==============================] - 77s 256ms/step - loss: 1.8441\n",
            "Epoch 23/60\n",
            "300/300 [==============================] - 77s 256ms/step - loss: 1.8064\n",
            "Epoch 24/60\n",
            "300/300 [==============================] - 77s 257ms/step - loss: 1.7942\n",
            "Epoch 25/60\n",
            "300/300 [==============================] - 77s 257ms/step - loss: 1.7595\n",
            "Epoch 26/60\n",
            "300/300 [==============================] - 77s 257ms/step - loss: 1.7367\n",
            "Epoch 27/60\n",
            "300/300 [==============================] - 77s 256ms/step - loss: 1.6878\n",
            "Epoch 28/60\n",
            "300/300 [==============================] - 77s 256ms/step - loss: 1.6424\n",
            "Epoch 29/60\n",
            "300/300 [==============================] - 77s 258ms/step - loss: 1.6197\n",
            "Epoch 30/60\n",
            "300/300 [==============================] - 77s 257ms/step - loss: 1.6145\n",
            "Epoch 31/60\n",
            "300/300 [==============================] - 77s 258ms/step - loss: 1.5632\n",
            "Epoch 32/60\n",
            "300/300 [==============================] - 77s 257ms/step - loss: 1.5629\n",
            "Epoch 33/60\n",
            "300/300 [==============================] - 77s 257ms/step - loss: 1.4974\n",
            "Epoch 34/60\n",
            "300/300 [==============================] - 77s 257ms/step - loss: 1.4708\n",
            "Epoch 35/60\n",
            "300/300 [==============================] - 77s 257ms/step - loss: 1.4065\n",
            "Epoch 36/60\n",
            "300/300 [==============================] - 78s 259ms/step - loss: 1.4130\n",
            "Epoch 37/60\n",
            "300/300 [==============================] - 77s 258ms/step - loss: 1.3878\n",
            "Epoch 38/60\n",
            "300/300 [==============================] - 77s 257ms/step - loss: 1.3430\n",
            "Epoch 39/60\n",
            "300/300 [==============================] - 77s 257ms/step - loss: 1.3274\n",
            "Epoch 40/60\n",
            "300/300 [==============================] - 77s 257ms/step - loss: 1.2976\n",
            "Epoch 41/60\n",
            "300/300 [==============================] - 78s 259ms/step - loss: 1.2557\n",
            "Epoch 42/60\n",
            "300/300 [==============================] - 77s 258ms/step - loss: 1.2542\n",
            "Epoch 43/60\n",
            "300/300 [==============================] - 77s 257ms/step - loss: 1.2126\n",
            "Epoch 44/60\n",
            "300/300 [==============================] - 77s 257ms/step - loss: 1.1784\n",
            "Epoch 45/60\n",
            "300/300 [==============================] - 77s 258ms/step - loss: 1.1724\n",
            "Epoch 46/60\n",
            "300/300 [==============================] - 78s 259ms/step - loss: 1.1740\n",
            "Epoch 47/60\n",
            "300/300 [==============================] - 77s 257ms/step - loss: 1.1241\n",
            "Epoch 48/60\n",
            "300/300 [==============================] - 77s 258ms/step - loss: 1.1025\n",
            "Epoch 49/60\n",
            "300/300 [==============================] - 77s 256ms/step - loss: 1.0665\n",
            "Epoch 50/60\n",
            "300/300 [==============================] - 77s 256ms/step - loss: 1.0718\n",
            "Epoch 51/60\n",
            "300/300 [==============================] - 77s 256ms/step - loss: 1.0636\n",
            "Epoch 52/60\n",
            "300/300 [==============================] - 77s 256ms/step - loss: 1.0388\n",
            "Epoch 53/60\n",
            "300/300 [==============================] - 77s 258ms/step - loss: 1.0478\n",
            "Epoch 54/60\n",
            "300/300 [==============================] - 77s 258ms/step - loss: 1.0090\n",
            "Epoch 55/60\n",
            "300/300 [==============================] - 77s 256ms/step - loss: 0.9900\n",
            "Epoch 56/60\n",
            "300/300 [==============================] - 77s 256ms/step - loss: 1.0053\n",
            "Epoch 57/60\n",
            "300/300 [==============================] - 77s 257ms/step - loss: 0.9647\n",
            "Epoch 58/60\n",
            "300/300 [==============================] - 78s 261ms/step - loss: 0.9608\n",
            "Epoch 59/60\n",
            "300/300 [==============================] - 79s 264ms/step - loss: 0.9608\n",
            "Epoch 60/60\n",
            "300/300 [==============================] - 79s 262ms/step - loss: 0.9240\n"
          ],
          "name": "stdout"
        },
        {
          "output_type": "execute_result",
          "data": {
            "text/plain": [
              "<keras.callbacks.callbacks.History at 0x7f28ce2ac400>"
            ]
          },
          "metadata": {
            "tags": []
          },
          "execution_count": 11
        }
      ]
    },
    {
      "cell_type": "code",
      "metadata": {
        "id": "U7-duWAvPfdx",
        "colab_type": "code",
        "colab": {}
      },
      "source": [
        "history = model.history\n",
        "dir(history)"
      ],
      "execution_count": null,
      "outputs": []
    },
    {
      "cell_type": "code",
      "metadata": {
        "id": "xH2ZKtRSP3U7",
        "colab_type": "code",
        "colab": {
          "base_uri": "https://localhost:8080/",
          "height": 278
        },
        "outputId": "590cd9a5-392b-4d34-a052-d3e8dbb9cdc3"
      },
      "source": [
        "history_loss = history.history['loss']\n",
        "plt.plot(history_loss)\n",
        "plt.xlabel('epoches')\n",
        "plt.ylabel('loss score')\n",
        "plt.show()\n",
        "plt.close()"
      ],
      "execution_count": 19,
      "outputs": [
        {
          "output_type": "display_data",
          "data": {
            "image/png": "[encoded data removed]",
            "text/plain": [
              "<Figure size 432x288 with 1 Axes>"
            ]
          },
          "metadata": {
            "tags": [],
            "image/png": {
              "width": 382,
              "height": 261
            },
            "needs_background": "light"
          }
        }
      ]
    },
    {
      "cell_type": "markdown",
      "metadata": {
        "id": "T_KNZ-7IrR9_",
        "colab_type": "text"
      },
      "source": [
        "## 預測"
      ]
    },
    {
      "cell_type": "code",
      "metadata": {
        "id": "3h1koV9krR9_",
        "colab_type": "code",
        "colab": {
          "base_uri": "https://localhost:8080/",
          "height": 234
        },
        "outputId": "9539689a-e5ec-41ec-cc23-e062ed272e80"
      },
      "source": [
        "characters2 = characters + ' '\n",
        "[X_test, y_test, _, _], _  = next(gen(1))\n",
        "y_pred = base_model.predict(X_test)\n",
        "##用ctc_decode得到解答，自己寫可以參考下方\n",
        "out = K.get_value(K.ctc_decode(y_pred, input_length=np.ones(y_pred.shape[0])*y_pred.shape[1], )[0][0])\n",
        "out = ''.join([characters[x] for x in out[0]])\n",
        "y_true = ''.join([characters[x] for x in y_test[0]])\n",
        "\n",
        "plt.imshow(X_test[0])\n",
        "plt.title('pred:' + str(out) + '\\ntrue: ' + str(y_true))\n",
        "\n",
        "argmax = np.argmax(y_pred, axis=2)[0]"
      ],
      "execution_count": 12,
      "outputs": [
        {
          "output_type": "display_data",
          "data": {
            "image/png": "[encoded data removed]",
            "text/plain": [
              "<Figure size 432x288 with 1 Axes>"
            ]
          },
          "metadata": {
            "tags": [],
            "image/png": {
              "width": 369,
              "height": 217
            },
            "needs_background": "light"
          }
        }
      ]
    },
    {
      "cell_type": "markdown",
      "metadata": {
        "id": "PgCK1V-hrR-D",
        "colab_type": "text"
      },
      "source": [
        "## 自己寫 decode CTC"
      ]
    },
    {
      "cell_type": "code",
      "metadata": {
        "id": "CQm8_ZqkrR-E",
        "colab_type": "code",
        "colab": {}
      },
      "source": [
        "## 其中0代表預測為空格，如果預測相同字符之間沒有空格要移除\n",
        "word=''\n",
        "n=''\n",
        "for single_result in y_pred[0].argmax(1):\n",
        "    if single_result != 36:\n",
        "        if n != single_result:\n",
        "            word+=characters[single_result]\n",
        "    n=single_result "
      ],
      "execution_count": 20,
      "outputs": []
    },
    {
      "cell_type": "code",
      "metadata": {
        "id": "a-huWw3dQnDr",
        "colab_type": "code",
        "colab": {
          "base_uri": "https://localhost:8080/",
          "height": 35
        },
        "outputId": "2e29a02b-e560-459e-adfe-62ff6be809e5"
      },
      "source": [
        "word"
      ],
      "execution_count": 24,
      "outputs": [
        {
          "output_type": "execute_result",
          "data": {
            "application/vnd.google.colaboratory.intrinsic": {
              "type": "string"
            },
            "text/plain": [
              "'1WDA'"
            ]
          },
          "metadata": {
            "tags": []
          },
          "execution_count": 24
        }
      ]
    },
    {
      "cell_type": "markdown",
      "metadata": {
        "id": "QShCCeM_rR-G",
        "colab_type": "text"
      },
      "source": [
        "## 額外參考：加入RNN的神經網路"
      ]
    },
    {
      "cell_type": "code",
      "metadata": {
        "id": "Ni41mMAcrR-G",
        "colab_type": "code",
        "colab": {},
        "outputId": "b4be6b73-98f2-4595-8792-4db8cf5f4467"
      },
      "source": [
        "from keras.models import *\n",
        "from keras.layers import *\n",
        "rnn_size = 128\n",
        "\n",
        "input_tensor = Input((height,width, 3))\n",
        "x = input_tensor\n",
        "for i in range(4):\n",
        "    x = Convolution2D(32, 3, 3, activation='relu')(x)\n",
        "    x = keras.layers.BatchNormalization(axis=-1)(x)\n",
        "    x = Convolution2D(32, 3, 3, activation='relu')(x)\n",
        "    x = keras.layers.BatchNormalization(axis=-1)(x)\n",
        "    if i <3:\n",
        "        x = MaxPooling2D(pool_size=(2, 2))(x)\n",
        "    else:\n",
        "        x = MaxPooling2D(pool_size=(2, 1))(x)\n",
        "\n",
        "\n",
        "conv_shape = x.get_shape()\n",
        "x = Reshape(target_shape=(int(conv_shape[2]), int(conv_shape[1]*conv_shape[3])))(x)\n",
        "\n",
        "x = Dense(32, activation='relu')(x)\n",
        "\n",
        "gru_1 = GRU(rnn_size, return_sequences=True, init='he_normal', name='gru1')(x)\n",
        "gru_1b = GRU(rnn_size, return_sequences=True, go_backwards=True, \n",
        "             init='he_normal', name='gru1_b')(x)\n",
        "gru1_merged = keras.layers.add([gru_1, gru_1b])\n",
        "\n",
        "gru_2 = GRU(rnn_size, return_sequences=True, init='he_normal', name='gru2')(gru1_merged)\n",
        "gru_2b = GRU(rnn_size, return_sequences=True, go_backwards=True, \n",
        "             init='he_normal', name='gru2_b')(gru1_merged)\n",
        "x = keras.layers.Concatenate()([gru_2, gru_2b])\n",
        "\n",
        "x = Dropout(0.25)(x)\n",
        "x = Dense(n_class, init='he_normal', activation='softmax')(x)\n",
        "\n",
        "base_model = Model(input=input_tensor, output=x)\n",
        "\n",
        "labels = Input(name='the_labels', shape=[n_len], dtype='float32')\n",
        "input_length = Input(name='input_length', shape=[1], dtype='int64')\n",
        "label_length = Input(name='label_length', shape=[1], dtype='int64')\n",
        "loss_out = Lambda(ctc_lambda_func, output_shape=(1,), \n",
        "                  name='ctc')([x, labels, input_length, label_length])\n",
        "\n",
        "model = Model(input=[input_tensor, labels, input_length, label_length], output=[loss_out])\n",
        "model.compile(loss={'ctc': lambda y_true, y_pred: y_pred}, optimizer='Adam')"
      ],
      "execution_count": null,
      "outputs": [
        {
          "output_type": "stream",
          "text": [
            "/Users/chening/anaconda3/lib/python3.6/site-packages/ipykernel_launcher.py:8: UserWarning: Update your `Conv2D` call to the Keras 2 API: `Conv2D(32, (3, 3), activation=\"relu\")`\n",
            "  \n",
            "/Users/chening/anaconda3/lib/python3.6/site-packages/ipykernel_launcher.py:10: UserWarning: Update your `Conv2D` call to the Keras 2 API: `Conv2D(32, (3, 3), activation=\"relu\")`\n",
            "  # Remove the CWD from sys.path while we load stuff.\n",
            "/Users/chening/anaconda3/lib/python3.6/site-packages/ipykernel_launcher.py:23: UserWarning: Update your `GRU` call to the Keras 2 API: `GRU(128, return_sequences=True, name=\"gru1\", kernel_initializer=\"he_normal\")`\n",
            "/Users/chening/anaconda3/lib/python3.6/site-packages/ipykernel_launcher.py:25: UserWarning: Update your `GRU` call to the Keras 2 API: `GRU(128, return_sequences=True, go_backwards=True, name=\"gru1_b\", kernel_initializer=\"he_normal\")`\n",
            "/Users/chening/anaconda3/lib/python3.6/site-packages/ipykernel_launcher.py:28: UserWarning: Update your `GRU` call to the Keras 2 API: `GRU(128, return_sequences=True, name=\"gru2\", kernel_initializer=\"he_normal\")`\n",
            "/Users/chening/anaconda3/lib/python3.6/site-packages/ipykernel_launcher.py:30: UserWarning: Update your `GRU` call to the Keras 2 API: `GRU(128, return_sequences=True, go_backwards=True, name=\"gru2_b\", kernel_initializer=\"he_normal\")`\n",
            "/Users/chening/anaconda3/lib/python3.6/site-packages/ipykernel_launcher.py:34: UserWarning: Update your `Dense` call to the Keras 2 API: `Dense(37, activation=\"softmax\", kernel_initializer=\"he_normal\")`\n",
            "/Users/chening/anaconda3/lib/python3.6/site-packages/ipykernel_launcher.py:36: UserWarning: Update your `Model` call to the Keras 2 API: `Model(inputs=Tensor(\"in..., outputs=Tensor(\"de...)`\n",
            "/Users/chening/anaconda3/lib/python3.6/site-packages/ipykernel_launcher.py:44: UserWarning: Update your `Model` call to the Keras 2 API: `Model(inputs=[<tf.Tenso..., outputs=[<tf.Tenso...)`\n"
          ],
          "name": "stderr"
        }
      ]
    },
    {
      "cell_type": "code",
      "metadata": {
        "id": "bEqf0ss7rR-I",
        "colab_type": "code",
        "colab": {},
        "outputId": "64c60d80-8398-4017-eca5-2299532a4e07"
      },
      "source": [
        "model.summary()"
      ],
      "execution_count": null,
      "outputs": [
        {
          "output_type": "stream",
          "text": [
            "__________________________________________________________________________________________________\n",
            "Layer (type)                    Output Shape         Param #     Connected to                     \n",
            "==================================================================================================\n",
            "input_4 (InputLayer)            (None, 80, 170, 3)   0                                            \n",
            "__________________________________________________________________________________________________\n",
            "conv2d_25 (Conv2D)              (None, 78, 168, 32)  896         input_4[0][0]                    \n",
            "__________________________________________________________________________________________________\n",
            "batch_normalization_25 (BatchNo (None, 78, 168, 32)  128         conv2d_25[0][0]                  \n",
            "__________________________________________________________________________________________________\n",
            "conv2d_26 (Conv2D)              (None, 76, 166, 32)  9248        batch_normalization_25[0][0]     \n",
            "__________________________________________________________________________________________________\n",
            "batch_normalization_26 (BatchNo (None, 76, 166, 32)  128         conv2d_26[0][0]                  \n",
            "__________________________________________________________________________________________________\n",
            "max_pooling2d_13 (MaxPooling2D) (None, 38, 83, 32)   0           batch_normalization_26[0][0]     \n",
            "__________________________________________________________________________________________________\n",
            "conv2d_27 (Conv2D)              (None, 36, 81, 32)   9248        max_pooling2d_13[0][0]           \n",
            "__________________________________________________________________________________________________\n",
            "batch_normalization_27 (BatchNo (None, 36, 81, 32)   128         conv2d_27[0][0]                  \n",
            "__________________________________________________________________________________________________\n",
            "conv2d_28 (Conv2D)              (None, 34, 79, 32)   9248        batch_normalization_27[0][0]     \n",
            "__________________________________________________________________________________________________\n",
            "batch_normalization_28 (BatchNo (None, 34, 79, 32)   128         conv2d_28[0][0]                  \n",
            "__________________________________________________________________________________________________\n",
            "max_pooling2d_14 (MaxPooling2D) (None, 17, 39, 32)   0           batch_normalization_28[0][0]     \n",
            "__________________________________________________________________________________________________\n",
            "conv2d_29 (Conv2D)              (None, 15, 37, 32)   9248        max_pooling2d_14[0][0]           \n",
            "__________________________________________________________________________________________________\n",
            "batch_normalization_29 (BatchNo (None, 15, 37, 32)   128         conv2d_29[0][0]                  \n",
            "__________________________________________________________________________________________________\n",
            "conv2d_30 (Conv2D)              (None, 13, 35, 32)   9248        batch_normalization_29[0][0]     \n",
            "__________________________________________________________________________________________________\n",
            "batch_normalization_30 (BatchNo (None, 13, 35, 32)   128         conv2d_30[0][0]                  \n",
            "__________________________________________________________________________________________________\n",
            "max_pooling2d_15 (MaxPooling2D) (None, 6, 17, 32)    0           batch_normalization_30[0][0]     \n",
            "__________________________________________________________________________________________________\n",
            "conv2d_31 (Conv2D)              (None, 4, 15, 32)    9248        max_pooling2d_15[0][0]           \n",
            "__________________________________________________________________________________________________\n",
            "batch_normalization_31 (BatchNo (None, 4, 15, 32)    128         conv2d_31[0][0]                  \n",
            "__________________________________________________________________________________________________\n",
            "conv2d_32 (Conv2D)              (None, 2, 13, 32)    9248        batch_normalization_31[0][0]     \n",
            "__________________________________________________________________________________________________\n",
            "batch_normalization_32 (BatchNo (None, 2, 13, 32)    128         conv2d_32[0][0]                  \n",
            "__________________________________________________________________________________________________\n",
            "max_pooling2d_16 (MaxPooling2D) (None, 1, 13, 32)    0           batch_normalization_32[0][0]     \n",
            "__________________________________________________________________________________________________\n",
            "reshape_4 (Reshape)             (None, 13, 32)       0           max_pooling2d_16[0][0]           \n",
            "__________________________________________________________________________________________________\n",
            "dense_7 (Dense)                 (None, 13, 32)       1056        reshape_4[0][0]                  \n",
            "__________________________________________________________________________________________________\n",
            "gru1 (GRU)                      (None, 13, 128)      61824       dense_7[0][0]                    \n",
            "__________________________________________________________________________________________________\n",
            "gru1_b (GRU)                    (None, 13, 128)      61824       dense_7[0][0]                    \n",
            "__________________________________________________________________________________________________\n",
            "add_2 (Add)                     (None, 13, 128)      0           gru1[0][0]                       \n",
            "                                                                 gru1_b[0][0]                     \n",
            "__________________________________________________________________________________________________\n",
            "gru2 (GRU)                      (None, 13, 128)      98688       add_2[0][0]                      \n",
            "__________________________________________________________________________________________________\n",
            "gru2_b (GRU)                    (None, 13, 128)      98688       add_2[0][0]                      \n",
            "__________________________________________________________________________________________________\n",
            "concatenate_2 (Concatenate)     (None, 13, 256)      0           gru2[0][0]                       \n",
            "                                                                 gru2_b[0][0]                     \n",
            "__________________________________________________________________________________________________\n",
            "dropout_4 (Dropout)             (None, 13, 256)      0           concatenate_2[0][0]              \n",
            "__________________________________________________________________________________________________\n",
            "dense_8 (Dense)                 (None, 13, 37)       9509        dropout_4[0][0]                  \n",
            "__________________________________________________________________________________________________\n",
            "the_labels (InputLayer)         (None, 4)            0                                            \n",
            "__________________________________________________________________________________________________\n",
            "input_length (InputLayer)       (None, 1)            0                                            \n",
            "__________________________________________________________________________________________________\n",
            "label_length (InputLayer)       (None, 1)            0                                            \n",
            "__________________________________________________________________________________________________\n",
            "ctc (Lambda)                    (None, 1)            0           dense_8[0][0]                    \n",
            "                                                                 the_labels[0][0]                 \n",
            "                                                                 input_length[0][0]               \n",
            "                                                                 label_length[0][0]               \n",
            "==================================================================================================\n",
            "Total params: 398,245\n",
            "Trainable params: 397,733\n",
            "Non-trainable params: 512\n",
            "__________________________________________________________________________________________________\n"
          ],
          "name": "stdout"
        }
      ]
    },
    {
      "cell_type": "code",
      "metadata": {
        "id": "0nzfYVA7rR-K",
        "colab_type": "code",
        "colab": {}
      },
      "source": [
        ""
      ],
      "execution_count": null,
      "outputs": []
    }
  ]
}